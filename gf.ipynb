{
 "cells": [
  {
   "cell_type": "code",
   "execution_count": 1,
   "id": "56072f0e-e351-4fd8-b53a-b2abf803f531",
   "metadata": {},
   "outputs": [],
   "source": [
    "import random"
   ]
  },
  {
   "cell_type": "code",
   "execution_count": 2,
   "id": "3c97060b-87f9-428a-930b-c87c4700a0a8",
   "metadata": {},
   "outputs": [
    {
     "data": {
      "text/plain": [
       "65535"
      ]
     },
     "execution_count": 2,
     "metadata": {},
     "output_type": "execute_result"
    }
   ],
   "source": [
    "N = 2**16 - 1\n",
    "N"
   ]
  },
  {
   "cell_type": "code",
   "execution_count": 3,
   "id": "a08cc5ab-d4bb-47cf-8a11-1952d2890309",
   "metadata": {},
   "outputs": [
    {
     "data": {
      "text/plain": [
       "Univariate Polynomial Ring in x over Finite Field of size 2 (using GF2X)"
      ]
     },
     "execution_count": 3,
     "metadata": {},
     "output_type": "execute_result"
    }
   ],
   "source": [
    "R.<x> = GF(2)[]\n",
    "R"
   ]
  },
  {
   "cell_type": "code",
   "execution_count": 4,
   "id": "eb4a831c-bc56-4c37-9668-d92286810184",
   "metadata": {},
   "outputs": [],
   "source": [
    "def is_primitive_elem(a, primitive_poly):\n",
    "    if a == 0:\n",
    "        return False\n",
    "    cur = a\n",
    "    for _d in range(1, N):\n",
    "        if cur == 1:\n",
    "            return False\n",
    "        cur = (cur * a) % primitive_poly\n",
    "    return True"
   ]
  },
  {
   "cell_type": "code",
   "execution_count": 5,
   "id": "9b154e46-646c-4b84-81a4-d5347d4ba9dc",
   "metadata": {},
   "outputs": [
    {
     "data": {
      "text/plain": [
       "x^16 + x^5 + x^3 + x^2 + 1"
      ]
     },
     "execution_count": 5,
     "metadata": {},
     "output_type": "execute_result"
    }
   ],
   "source": [
    "for primitive_poly in R.polynomials(16):\n",
    "    a = x\n",
    "    if primitive_poly.is_irreducible() and is_primitive_elem(a, primitive_poly):\n",
    "        break\n",
    "primitive_poly"
   ]
  },
  {
   "cell_type": "code",
   "execution_count": 6,
   "id": "4f26e32f-4e62-49ef-a4ff-a6e6514efef4",
   "metadata": {},
   "outputs": [
    {
     "name": "stdout",
     "output_type": "stream",
     "text": [
      "65535\n"
     ]
    }
   ],
   "source": [
    "for i in range(1, N + 1):\n",
    "    if a^i % primitive_poly == 1:\n",
    "        print(i)\n",
    "        break"
   ]
  },
  {
   "cell_type": "code",
   "execution_count": 7,
   "id": "727a7baf-0cc0-400e-ba2b-ccf2cebb884d",
   "metadata": {},
   "outputs": [
    {
     "data": {
      "text/plain": [
       "65581"
      ]
     },
     "execution_count": 7,
     "metadata": {},
     "output_type": "execute_result"
    }
   ],
   "source": [
    "primitive_poly_i = 0\n",
    "for i in range(17):\n",
    "    if primitive_poly[i] == 1:\n",
    "        primitive_poly_i += 1 << i\n",
    "primitive_poly_i"
   ]
  },
  {
   "cell_type": "code",
   "execution_count": 8,
   "id": "66c553c6-7fd5-430a-bd93-70293e1544c9",
   "metadata": {},
   "outputs": [
    {
     "data": {
      "text/plain": [
       "49"
      ]
     },
     "execution_count": 8,
     "metadata": {},
     "output_type": "execute_result"
    }
   ],
   "source": [
    "def poly_as_int(p):\n",
    "    return int(''.join(map(str, p.coefficients(sparse=False)))[::-1], 2)\n",
    "\n",
    "poly_as_int(x^5 + x^4 + 1)"
   ]
  },
  {
   "cell_type": "code",
   "execution_count": 9,
   "id": "fe9665f5-583a-456f-801b-e73e6e7db4c7",
   "metadata": {},
   "outputs": [
    {
     "data": {
      "text/plain": [
       "Finite Field in y of size 2^16"
      ]
     },
     "execution_count": 9,
     "metadata": {},
     "output_type": "execute_result"
    }
   ],
   "source": [
    "S.<y> = GF(2**16, modulus=primitive_poly)\n",
    "S"
   ]
  },
  {
   "cell_type": "code",
   "execution_count": 10,
   "id": "b4dcb99f-ba79-410a-a0f4-676b822efe2b",
   "metadata": {},
   "outputs": [
    {
     "name": "stdout",
     "output_type": "stream",
     "text": [
      "[5654, 21639, 29777]\n",
      "[12640, 58696, 49115]\n",
      "[30031, 35723, 40184]\n",
      "[42297, 60518, 26627]\n",
      "[45029, 36507, 52822]\n"
     ]
    }
   ],
   "source": [
    "# Generates test data for multiplication in GF(65536)\n",
    "for _ in range(5):\n",
    "    # _a = R.random_element(degree=random.randint(10, 15))\n",
    "    # _b = R.random_element(degree=random.randint(10, 15))\n",
    "    # _r = (_a * _b) % primitive_poly\n",
    "    # print(list(map(poly_as_int, [_a, _b, _r])))\n",
    "    _a = S.random_element()\n",
    "    _b = S.random_element()\n",
    "    _r = _a * _b\n",
    "    print(list(map(lambda e: e.to_integer(), [_a, _b, _r])))"
   ]
  },
  {
   "cell_type": "code",
   "execution_count": 11,
   "id": "cc926c19-3e13-4773-ad0e-59884b0f4222",
   "metadata": {},
   "outputs": [
    {
     "name": "stdout",
     "output_type": "stream",
     "text": [
      "[12569, 49989, 14857]\n",
      "[56533, 42727, 47990]\n",
      "[54492, 57085, 45407]\n",
      "[14298, 42547, 5380]\n",
      "[4455, 64416, 7400]\n"
     ]
    }
   ],
   "source": [
    "# Generates test data for division in GF(65536)\n",
    "for _ in range(5):\n",
    "    _a = S.random_element()\n",
    "    _b = S.random_element()\n",
    "    _r = _a / _b\n",
    "    print(list(map(lambda e: e.to_integer(), [_a, _b, _r])))"
   ]
  }
 ],
 "metadata": {
  "kernelspec": {
   "display_name": "SageMath 10.2",
   "language": "sage",
   "name": "sagemath"
  },
  "language_info": {
   "codemirror_mode": {
    "name": "ipython",
    "version": 3
   },
   "file_extension": ".py",
   "mimetype": "text/x-python",
   "name": "python",
   "nbconvert_exporter": "python",
   "pygments_lexer": "ipython3",
   "version": "3.11.2"
  }
 },
 "nbformat": 4,
 "nbformat_minor": 5
}

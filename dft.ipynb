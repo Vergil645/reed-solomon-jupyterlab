{
 "cells": [
  {
   "cell_type": "code",
   "execution_count": 1,
   "id": "91207c5a-d21f-4478-974e-21896bb5dd50",
   "metadata": {},
   "outputs": [],
   "source": [
    "import matplotlib.pyplot as plt\n",
    "import random\n",
    "\n",
    "from collections import defaultdict"
   ]
  },
  {
   "cell_type": "code",
   "execution_count": 2,
   "id": "d0e614d5-9dc4-495b-a20f-ce96277e3004",
   "metadata": {},
   "outputs": [
    {
     "data": {
      "text/plain": [
       "65535"
      ]
     },
     "execution_count": 2,
     "metadata": {},
     "output_type": "execute_result"
    }
   ],
   "source": [
    "N = 2**16 - 1\n",
    "N"
   ]
  },
  {
   "cell_type": "markdown",
   "id": "c3bda26d-1d6a-4e20-933e-c787581204e1",
   "metadata": {},
   "source": [
    "# Cyclotomic cosets modulo $N$ over $GF(2)$"
   ]
  },
  {
   "cell_type": "code",
   "execution_count": 3,
   "id": "b2008084-c3fd-47b7-a4d7-05d110f4cc4f",
   "metadata": {},
   "outputs": [
    {
     "data": {
      "text/plain": [
       "[[0],\n",
       " [1, 2, 4, 8, 16, 32, 64, 128, 256, 512, 1024, 2048, 4096, 8192, 16384, 32768],\n",
       " [3,\n",
       "  6,\n",
       "  12,\n",
       "  24,\n",
       "  48,\n",
       "  96,\n",
       "  192,\n",
       "  384,\n",
       "  768,\n",
       "  1536,\n",
       "  3072,\n",
       "  6144,\n",
       "  12288,\n",
       "  24576,\n",
       "  49152,\n",
       "  32769]]"
      ]
     },
     "execution_count": 3,
     "metadata": {},
     "output_type": "execute_result"
    }
   ],
   "source": [
    "cyclotomic_cosets = []\n",
    "used = [False for _ in range(N)]\n",
    "for s in range(N):\n",
    "    if used[s]:\n",
    "        continue\n",
    "    used[s] = True\n",
    "    coset = [s]\n",
    "    cur_elem = (s * 2) % N\n",
    "    while cur_elem != s:\n",
    "        coset.append(cur_elem)\n",
    "        used[cur_elem] = True\n",
    "        cur_elem = (cur_elem * 2) % N\n",
    "    # coset.sort()\n",
    "    cyclotomic_cosets.append(coset)\n",
    "cyclotomic_cosets[:3]"
   ]
  },
  {
   "cell_type": "code",
   "execution_count": 4,
   "id": "017b3316-c296-4473-b4db-5fa3ef58c76d",
   "metadata": {},
   "outputs": [
    {
     "name": "stdout",
     "output_type": "stream",
     "text": [
      "1 : 1\n",
      "2 : 1\n",
      "4 : 3\n",
      "8 : 30\n",
      "16 : 4080\n"
     ]
    },
    {
     "data": {
      "text/plain": [
       "65535"
      ]
     },
     "execution_count": 4,
     "metadata": {},
     "output_type": "execute_result"
    }
   ],
   "source": [
    "cyclotomic_coset_size_cnt = defaultdict(int)\n",
    "cyclotomic_cosets_by_size = defaultdict(list)\n",
    "for coset in cyclotomic_cosets:\n",
    "    cyclotomic_coset_size_cnt[len(coset)] += 1\n",
    "    cyclotomic_cosets_by_size[len(coset)].append(coset)\n",
    "\n",
    "sum_cnt = 0\n",
    "for k, v in sorted(cyclotomic_coset_size_cnt.items()):\n",
    "    sum_cnt += k * v\n",
    "    print(k, \":\", v)\n",
    "sum_cnt"
   ]
  },
  {
   "cell_type": "code",
   "execution_count": 5,
   "id": "757b5e36-74b3-47b1-a6d7-d97b78ddd681",
   "metadata": {},
   "outputs": [
    {
     "name": "stdout",
     "output_type": "stream",
     "text": [
      "[[0]]\n",
      "[[21845, 43690]]\n",
      "[[4369, 8738, 17476, 34952], [13107, 26214, 52428, 39321], [30583, 61166, 56797, 48059]]\n"
     ]
    }
   ],
   "source": [
    "print(cyclotomic_cosets_by_size[1])\n",
    "print(cyclotomic_cosets_by_size[2])\n",
    "print(cyclotomic_cosets_by_size[4])"
   ]
  },
  {
   "cell_type": "code",
   "execution_count": 6,
   "id": "8b930ae6-0bc4-4613-9e72-0333bb1b9d86",
   "metadata": {},
   "outputs": [
    {
     "name": "stdout",
     "output_type": "stream",
     "text": [
      "{257, 771, 1285, 1799, 2313, 2827, 3341, 3855, 4883, 5397, 5911, 6425, 6939, 7453, 7967, 9509, 10023, 11051, 11565, 12079, 13621, 14135, 15163, 15677, 16191, 22359, 23387, 24415, 28527, 32639}\n"
     ]
    }
   ],
   "source": [
    "leaders_8 = list(map(str, sorted([min(coset) for coset in cyclotomic_cosets_by_size[8]])))\n",
    "print(\"{\" + ', '.join(leaders_8) + \"}\")"
   ]
  },
  {
   "cell_type": "markdown",
   "id": "f03d199e-1f72-4df7-9576-915c723e88c3",
   "metadata": {},
   "source": [
    "# Field $GF(2^{16})$"
   ]
  },
  {
   "cell_type": "code",
   "execution_count": 7,
   "id": "bb79e18a-2192-40e4-b857-d137fb513097",
   "metadata": {},
   "outputs": [],
   "source": [
    "# F.<a> = GF(2^16, modulus=\"primitive\")\n",
    "# F"
   ]
  },
  {
   "cell_type": "code",
   "execution_count": 8,
   "id": "9fc985fe-f5b1-4051-881d-fad3f13c621a",
   "metadata": {},
   "outputs": [
    {
     "data": {
      "text/plain": [
       "Finite Field in a of size 2^16"
      ]
     },
     "execution_count": 8,
     "metadata": {},
     "output_type": "execute_result"
    }
   ],
   "source": [
    "_F.<t> = GF(2)[]\n",
    "F.<a> = GF(2^16, modulus=(t^16 + t^5 + t^3 + t^2 + 1))\n",
    "F"
   ]
  },
  {
   "cell_type": "code",
   "execution_count": 9,
   "id": "32d59ee7-7178-467f-872e-70d2ca53702a",
   "metadata": {},
   "outputs": [
    {
     "name": "stdout",
     "output_type": "stream",
     "text": [
      "65535\n"
     ]
    }
   ],
   "source": [
    "for i in range(1, N + 1):\n",
    "    if a^i == 1:\n",
    "        print(i)"
   ]
  },
  {
   "cell_type": "code",
   "execution_count": 10,
   "id": "a8ac1d04-ecd4-491a-91af-fe86f64fde57",
   "metadata": {},
   "outputs": [
    {
     "data": {
      "text/plain": [
       "Univariate Polynomial Ring in x over Finite Field in a of size 2^16"
      ]
     },
     "execution_count": 10,
     "metadata": {},
     "output_type": "execute_result"
    }
   ],
   "source": [
    "R.<x> = F[]\n",
    "R"
   ]
  },
  {
   "cell_type": "markdown",
   "id": "00fa5be5-cd05-45b4-84a8-c845e47e127f",
   "metadata": {},
   "source": [
    "# Normal basises of subfileds $GF(2^{m_s}) \\subset GF(2^{16})$"
   ]
  },
  {
   "cell_type": "markdown",
   "id": "4e8ed7c5-fce4-4f8a-9588-763bcc8e9d25",
   "metadata": {},
   "source": [
    "### $s2^{m_s} = s \\implies \\left\\{ \\alpha^s, \\alpha^{s2}, \\dots, \\alpha^{s2^{m_s-1}} \\right\\} \\subset GF(2^{m_s}) - \\text{is a normal basis ??? SEEMS NO}$"
   ]
  },
  {
   "cell_type": "markdown",
   "id": "c33fc4ec-b8f9-4af4-a889-c09f0735dac9",
   "metadata": {},
   "source": [
    "### $a^s \\in GF(2^{m_s}) - \\text{is a primitive element ???}$"
   ]
  },
  {
   "cell_type": "code",
   "execution_count": 11,
   "id": "c8d91ca5-b002-4c79-b467-4b7a2abc9fe3",
   "metadata": {},
   "outputs": [],
   "source": [
    "def poly16_to_integer(poly):\n",
    "    if poly == 0 or poly == 1:\n",
    "        return poly\n",
    "    poly_i = 0\n",
    "    for i in range(16):\n",
    "        if poly[i] == 1:\n",
    "            poly_i += 1 << i\n",
    "    return poly_i"
   ]
  },
  {
   "cell_type": "code",
   "execution_count": 12,
   "id": "f4d3f4b3-c958-441f-898c-1195260342e8",
   "metadata": {},
   "outputs": [],
   "source": [
    "def is_normal_basis_gen_of_subfield_f(gen, m, subfield_elems):\n",
    "    assert len(subfield_elems) == 2^m\n",
    "    \n",
    "    normal_basis = [gen^(2^i) for i in range(m)]\n",
    "    if sum(normal_basis) != 1:\n",
    "        return False\n",
    "    \n",
    "    already_built = defaultdict(lambda: False)\n",
    "    for repr_i in range(2^m):\n",
    "        repr_arr = [1 if repr_i & (1 << t) != 0 else 0 for t in range(m)]\n",
    "        elem = sum(repr_arr[t] * b for t, b in enumerate(normal_basis))\n",
    "        if already_built[elem]:\n",
    "            return False\n",
    "        already_built[elem] = True\n",
    "    \n",
    "    return True"
   ]
  },
  {
   "cell_type": "code",
   "execution_count": 13,
   "id": "89ba5e00-ec6c-4fb0-96ba-2612135b7c40",
   "metadata": {},
   "outputs": [
    {
     "name": "stdout",
     "output_type": "stream",
     "text": [
      "----- m = 1 s = 0\n",
      "1 (1)\n",
      "----- m = 2 s = 21845\n",
      "a^15 + a^13 + a^11 + a^10 + a^7 + a^6 + a^3 + a (44234)\n",
      "----- m = 4 s = 4369\n",
      "a^13 + a^11 + a^9 + a^5 + a^4 (10800)\n",
      "----- m = 8 s = 257\n",
      "a^14 + a^4 + a (16402)\n",
      "----- m = 16 s = 1\n",
      "a^11 (2048)\n"
     ]
    }
   ],
   "source": [
    "normal_basis_by_m = {}\n",
    "element_to_normal_basis_repr_by_m = {}\n",
    "\n",
    "for m, cosets in sorted(cyclotomic_cosets_by_size.items()):\n",
    "    s = cosets[0][0]\n",
    "    \n",
    "    print(\"-----\", \"m =\", m, \"s =\", s)\n",
    "    subfield_elems = set()\n",
    "    for e in F:\n",
    "        if e^(2^m) - e == 0:\n",
    "            subfield_elems.add(e)\n",
    "    assert len(subfield_elems) == 2^m\n",
    "    \n",
    "    for gen in subfield_elems:\n",
    "        if is_normal_basis_gen_of_subfield_f(gen, m, subfield_elems):\n",
    "            print(gen, f\"({poly16_to_integer(gen)})\")\n",
    "            break\n",
    "    \n",
    "    normal_basis = [gen^(2^i) for i in range(m)]\n",
    "    normal_basis_by_m[m] = normal_basis\n",
    "    element_to_normal_basis_repr_by_m[m] = {}\n",
    "    \n",
    "    for repr_i in range(2^m):\n",
    "        repr_arr = [1 if repr_i & (1 << t) != 0 else 0 for t in range(m)]\n",
    "        elem = sum(repr_arr[t] * b for t, b in enumerate(normal_basis))\n",
    "        element_to_normal_basis_repr_by_m[m][elem] = repr_arr\n",
    "    assert len(element_to_normal_basis_repr_by_m[m].keys()) == 2^m"
   ]
  },
  {
   "cell_type": "code",
   "execution_count": 14,
   "id": "916eb526-8b90-441a-8692-096491d3d830",
   "metadata": {},
   "outputs": [
    {
     "name": "stdout",
     "output_type": "stream",
     "text": [
      "{\n",
      "    [0] = { 1 },\n",
      "    [1] = { 44234, 44235 },\n",
      "    [2] = { 10800, 47860, 34555, 5694 },\n",
      "    [3] = { 16402, 53598, 44348, 63986, 22060, 64366, 6088, 32521 },\n",
      "    [4] = { 2048, 2880, 7129, 30616, 2643, 6897, 29685, 7378, 30100, 2743, 20193, 36223, 24055, 41458, 41014, 61451 },\n",
      "}\n"
     ]
    }
   ],
   "source": [
    "print(f\"\"\"{{\n",
    "    [0] = {{ {\", \".join(str(poly16_to_integer(b)) for b in normal_basis_by_m[1])} }},\n",
    "    [1] = {{ {\", \".join(str(poly16_to_integer(b)) for b in normal_basis_by_m[2])} }},\n",
    "    [2] = {{ {\", \".join(str(poly16_to_integer(b)) for b in normal_basis_by_m[4])} }},\n",
    "    [3] = {{ {\", \".join(str(poly16_to_integer(b)) for b in normal_basis_by_m[8])} }},\n",
    "    [4] = {{ {\", \".join(str(poly16_to_integer(b)) for b in normal_basis_by_m[16])} }},\n",
    "}}\"\"\")"
   ]
  },
  {
   "cell_type": "code",
   "execution_count": 15,
   "id": "55977065-5023-47f0-99f4-040dff30efa6",
   "metadata": {},
   "outputs": [],
   "source": [
    "s_to_m = {}\n",
    "\n",
    "for coset in cyclotomic_cosets:\n",
    "    m = len(coset)\n",
    "    for s in coset:\n",
    "        s_to_m[s] = m"
   ]
  },
  {
   "cell_type": "code",
   "execution_count": 16,
   "id": "0c560f06-7d72-4105-8ff8-0cdc57517b2a",
   "metadata": {},
   "outputs": [],
   "source": [
    "def A_s_t_i(s, t, i):\n",
    "    m = s_to_m[s]\n",
    "    repr_arr = element_to_normal_basis_repr_by_m[m][a^(s*i)]\n",
    "    return repr_arr[t]"
   ]
  },
  {
   "cell_type": "markdown",
   "id": "5ab22d78-a1ca-412a-84b3-4f774c88655e",
   "metadata": {},
   "source": [
    "# Cyclic convolution algorithms constants"
   ]
  },
  {
   "cell_type": "code",
   "execution_count": 17,
   "id": "6349f4e0-b34b-431a-9305-54481650466b",
   "metadata": {},
   "outputs": [],
   "source": [
    "def str_to_matrix(str_matrix):\n",
    "    return list(map(lambda s: list(map(int, s)), str_matrix.split('\\n')))"
   ]
  },
  {
   "cell_type": "code",
   "execution_count": 18,
   "id": "936588dc-0008-45e6-ba48-5c816da8b87e",
   "metadata": {},
   "outputs": [],
   "source": [
    "def transpose_matrix(matrix):\n",
    "    return [[matrix[i][j] for i in range(len(matrix))] for j in range(len(matrix[0]))]"
   ]
  },
  {
   "cell_type": "code",
   "execution_count": 19,
   "id": "3cc2e839-60df-4e83-9f14-1a7f549ee2b3",
   "metadata": {},
   "outputs": [
    {
     "data": {
      "text/plain": [
       "{2, 4, 8}"
      ]
     },
     "execution_count": 19,
     "metadata": {},
     "output_type": "execute_result"
    }
   ],
   "source": [
    "P_m = {}\n",
    "Q_m = {}\n",
    "d_m = {}\n",
    "R_m = {}\n",
    "\n",
    "P_m[2] = str_to_matrix(\"\"\"110\n",
    "101\"\"\")\n",
    "Q_m[2] = str_to_matrix(\"\"\"10\n",
    "11\n",
    "11\"\"\")\n",
    "R_m[2] = str_to_matrix(\"\"\"11\n",
    "01\n",
    "10\"\"\")\n",
    "\n",
    "P_m[4] = str_to_matrix(\"\"\"111100000\n",
    "110000111\n",
    "111111000\n",
    "110011110\"\"\")\n",
    "Q_m[4] = str_to_matrix(\"\"\"1010\n",
    "0100\n",
    "0110\n",
    "1111\n",
    "1010\n",
    "1111\n",
    "0011\n",
    "1111\n",
    "1111\"\"\")\n",
    "R_m[4] = str_to_matrix(\"\"\"1100\n",
    "1111\n",
    "1010\n",
    "0100\n",
    "1111\n",
    "0101\n",
    "0101\n",
    "0010\n",
    "1111\"\"\")\n",
    "\n",
    "P_m[8] = transpose_matrix(str_to_matrix(\"\"\"11111111\n",
    "10101010\n",
    "01010101\n",
    "10011001\n",
    "10001000\n",
    "00010001\n",
    "10000111\n",
    "10000010\n",
    "00000101\n",
    "10000001\n",
    "10000000\n",
    "00000001\n",
    "01100110\n",
    "00100010\n",
    "01000100\n",
    "01111000\n",
    "00101000\n",
    "01010000\n",
    "00011110\n",
    "00001010\n",
    "00010100\n",
    "01111110\n",
    "00101010\n",
    "01010100\"\"\"))\n",
    "Q_m[8] = str_to_matrix(\"\"\"10000000\n",
    "10000001\n",
    "11000000\n",
    "10000010\n",
    "10000111\n",
    "11000011\n",
    "10001000\n",
    "10011001\n",
    "11001100\n",
    "10101010\n",
    "11111111\n",
    "11111111\n",
    "00001010\n",
    "00011110\n",
    "00001111\n",
    "00100010\n",
    "01100110\n",
    "00110011\n",
    "10101010\n",
    "11111111\n",
    "11111111\n",
    "10101010\n",
    "11111111\n",
    "11111111\"\"\")\n",
    "R_m[8] = str_to_matrix(\"\"\"11111111\n",
    "01010101\n",
    "10101010\n",
    "00110011\n",
    "00010001\n",
    "00100010\n",
    "00001111\n",
    "00000101\n",
    "00001010\n",
    "00000011\n",
    "00000001\n",
    "00000010\n",
    "11001100\n",
    "01000100\n",
    "10001000\n",
    "11110000\n",
    "01010000\n",
    "10100000\n",
    "00111100\n",
    "00010100\n",
    "00101000\n",
    "11111100\n",
    "01010100\n",
    "10101000\"\"\")\n",
    "\n",
    "for m, Q in Q_m.items():\n",
    "    g_s = [0 for _ in range(m)]\n",
    "    for i in range(m):\n",
    "        g_s[i] = normal_basis_by_m[m][(m - i) % m]\n",
    "        \n",
    "    d_m[m] = [0 for _ in range(len(Q))]\n",
    "    for i, Q_row in enumerate(Q):\n",
    "        for j in range(m):\n",
    "            d_m[m][i] += Q_row[j] * g_s[j]\n",
    "\n",
    "cycl_m = set(P_m.keys()).intersection(set(d_m.keys())).intersection(set(R_m.keys()))\n",
    "cycl_m"
   ]
  },
  {
   "cell_type": "markdown",
   "id": "dce5aac3-be60-42c6-853f-0c3ae1226985",
   "metadata": {},
   "source": [
    "## TODO We need algorithm for case $m_s = 16$"
   ]
  },
  {
   "cell_type": "markdown",
   "id": "b268447c-e563-4d69-9f8e-2298b21ba281",
   "metadata": {},
   "source": [
    "# Partial cyclotomic FFT algorithms"
   ]
  },
  {
   "cell_type": "code",
   "execution_count": 20,
   "id": "3d50c3d0-8d12-4923-81a3-07cc3a067c84",
   "metadata": {},
   "outputs": [],
   "source": [
    "class Op:\n",
    "    def __init__(self):\n",
    "        self.cnt_add = 0\n",
    "        self.cnt_mul = 0\n",
    "    \n",
    "    def add(self, a, b):\n",
    "        self.cnt_add += 1\n",
    "        return a + b\n",
    "    \n",
    "    def mul(self, a, b):\n",
    "        self.cnt_mul += 1\n",
    "        return a * b\n",
    "    \n",
    "    def counters(self):\n",
    "        return self.cnt_add, self.cnt_mul"
   ]
  },
  {
   "cell_type": "markdown",
   "id": "c6c66be9-e353-48bd-8dc6-3381e71ecdcf",
   "metadata": {},
   "source": [
    "## $\\mathcal{F}\\left(f\\right)$"
   ]
  },
  {
   "cell_type": "markdown",
   "id": "eecd4c6e-2ad7-4f72-8c4a-a97a9bf872a1",
   "metadata": {},
   "source": [
    "### $\\alpha - \\text{primitive element of the field}$"
   ]
  },
  {
   "cell_type": "markdown",
   "id": "ff803965-adab-4833-9fb8-1802013c5fc0",
   "metadata": {},
   "source": [
    "### $\\gamma_s - \\text{generator of normal basis of subfield $GF(2^{m_s})$, where $m_s$ - size of cyclotomic coset of element $s$}$"
   ]
  },
  {
   "cell_type": "markdown",
   "id": "ef501f74-8f20-4543-91c8-e957e90bf053",
   "metadata": {},
   "source": [
    "### $\\alpha^{si} = \\sum_{t=0}^{m_s-1} A_{s,t,i} \\gamma_s^{2^{t}}, A_{s,t,i} \\in GF(2) $"
   ]
  },
  {
   "cell_type": "markdown",
   "id": "a35b7c46-ef94-41ec-b4dc-ec298e12ab92",
   "metadata": {},
   "source": [
    "### $F_j = \\sum_{i=0}^{N-1} f_i \\alpha^{ij} = f(\\alpha^j)$"
   ]
  },
  {
   "cell_type": "markdown",
   "id": "d647c24c-052c-4aa0-a3da-5fa9fa95bf14",
   "metadata": {},
   "source": [
    "### $F_{s2^j mod N} = f(\\alpha^{s2^j}) = \\sum_{i=0}^{N-1} f_i \\alpha^{si2^j} = \\sum_{i=0}^{N-1} f_i \\sum_{t=0}^{m_s-1} A_{s,t,i} \\gamma_s^{2^{j+t}} = \\sum_{t=0}^{m_s-1} \\gamma_s^{2^{j+t}} \\sum_{i=0}^{N-1} A_{s,t,i} f_i$"
   ]
  },
  {
   "cell_type": "markdown",
   "id": "b6205e5c-34ad-4bd3-8965-1d547b1acf4e",
   "metadata": {},
   "source": [
    "## $\\mathcal{F}_{r,\\Theta}(f) - \\text{computes $F_0, \\dots, F_{r-1}$ for any vector $f = (f_0, \\dots, f_{N-1})$, such that $f_i \\neq 0$ for $i \\in \\Theta$ and $f_i = 0$ otherwise}$"
   ]
  },
  {
   "cell_type": "markdown",
   "id": "ac8aec39-2e8a-4545-b633-85ba8e787cf9",
   "metadata": {},
   "source": [
    "### Implementation"
   ]
  },
  {
   "cell_type": "code",
   "execution_count": 21,
   "id": "1507a935-05a7-4aa8-9528-f4861f4f60f0",
   "metadata": {},
   "outputs": [],
   "source": [
    "def discrete_fourier_transform_f_base(r, positions, f):\n",
    "    assert r <= N\n",
    "    assert len(positions) == len(f)\n",
    "    \n",
    "    op = Op()\n",
    "    \n",
    "    dft = [0 for _ in range(r)]\n",
    "    \n",
    "    for j in range(r):\n",
    "        for i, f_i in zip(positions, f):\n",
    "            dft[j] = op.add(dft[j], op.mul(f_i, a^(i * j)))\n",
    "    \n",
    "    return dft, op.counters()"
   ]
  },
  {
   "cell_type": "code",
   "execution_count": 22,
   "id": "462f0165-fb81-40f6-a090-3c45b9e81826",
   "metadata": {},
   "outputs": [],
   "source": [
    "def discrete_fourier_transform_f_opt(r, positions, f):\n",
    "    assert r <= N\n",
    "    assert len(positions) == len(f)\n",
    "    \n",
    "    op = Op()\n",
    "    \n",
    "    dft = [0 for _ in range(r)]\n",
    "    calculated = [False for _ in range(r)]\n",
    "    \n",
    "    for s in range(r):\n",
    "        if calculated[s]:\n",
    "            continue\n",
    "            \n",
    "        m = s_to_m[s]\n",
    "        \n",
    "        u_s = [0 for _ in range(m)]\n",
    "        for t in range(m):\n",
    "            for i, f_i in zip(positions, f):\n",
    "                a_s_t_i = A_s_t_i(s, t, i) # A_s_t_i(s, t, i) in {0, 1}\n",
    "                if a_s_t_i == 1:\n",
    "                    u_s[t] = op.add(u_s[t], f_i)\n",
    "        \n",
    "        idx = s\n",
    "        for j in range(m):\n",
    "            if idx < r:\n",
    "                for t in range(m):\n",
    "                    dft[idx] += op.mul(normal_basis_by_m[m][(j + t) % m], u_s[t])\n",
    "                calculated[idx] = True\n",
    "            idx = (idx * 2) % N\n",
    "    \n",
    "    return dft, op.counters()"
   ]
  },
  {
   "cell_type": "markdown",
   "id": "1db84921-9a84-42c3-b9d5-72b9666c5379",
   "metadata": {},
   "source": [
    "### Tests"
   ]
  },
  {
   "cell_type": "code",
   "execution_count": 23,
   "id": "5f7f5d54-9fba-4346-b80b-cce19a1e0871",
   "metadata": {},
   "outputs": [
    {
     "name": "stdout",
     "output_type": "stream",
     "text": [
      "Running test 10\n",
      "Running test 20\n",
      "Running test 30\n",
      "Running test 40\n",
      "Running test 50\n",
      "Running test 60\n",
      "Running test 70\n",
      "Running test 80\n",
      "Running test 90\n",
      "Running test 100\n",
      "Tests completed\n"
     ]
    }
   ],
   "source": [
    "cases = 100\n",
    "\n",
    "additions_opt_to_base = []\n",
    "multiplications_opt_to_base = []\n",
    "# additions_opt = []\n",
    "# additions_base = []\n",
    "# multiplications_opt = []\n",
    "# multiplications_base = []\n",
    "\n",
    "for c in range(1, cases + 1):\n",
    "    if c % 10 == 0:\n",
    "        print(\"Running test\", c)\n",
    "    \n",
    "    r = random.randint(10, 20)\n",
    "    positions_cnt = random.randint(250, 500)\n",
    "    positions = sorted(random.sample(range(N), positions_cnt))\n",
    "    f = [F.random_element() for _ in range(positions_cnt)]\n",
    "    \n",
    "    dft_base, counters_base = discrete_fourier_transform_f_base(r, positions, f)\n",
    "    dft_opt, counters_opt = discrete_fourier_transform_f_opt(r, positions, f)\n",
    "    assert dft_base == dft_opt\n",
    "    # assert discrete_fourier_transform_f_base(r, positions, f)[0] == discrete_fourier_transform_f_cycl(r, positions, f)[0]\n",
    "    \n",
    "    additions_opt_to_base.append(counters_opt[0] / counters_base[0])\n",
    "    multiplications_opt_to_base.append(counters_opt[1] / counters_base[1])\n",
    "    # additions_opt.append(counters_opt[0])\n",
    "    # additions_base.append(counters_base[0])\n",
    "    # multiplications_opt.append(counters_opt[1])\n",
    "    # multiplications_base.append(counters_base[1])\n",
    "\n",
    "print(\"Tests completed\")"
   ]
  },
  {
   "cell_type": "code",
   "execution_count": 24,
   "id": "f1c6ca22-f987-46e6-9e20-d3302a867913",
   "metadata": {},
   "outputs": [
    {
     "data": {
      "image/png": "[encoded data removed]",
      "text/plain": [
       "<Figure size 640x480 with 1 Axes>"
      ]
     },
     "metadata": {},
     "output_type": "display_data"
    }
   ],
   "source": [
    "plt.title(\"Отношения кол-ва операций умножения (CDF)\")\n",
    "plt.ecdf(multiplications_opt_to_base, label=\"opt/base\")\n",
    "# plt.title(\"Number of '^=c*' operations (CDF)\")\n",
    "# plt.ecdf(multiplications_base, label=\"base\")\n",
    "# plt.ecdf(multiplications_opt, label=\"opt\")\n",
    "plt.grid(True)\n",
    "plt.legend()\n",
    "plt.gcf().savefig(\"multiplications_opt_to_base.png\")\n",
    "plt.show()"
   ]
  },
  {
   "cell_type": "code",
   "execution_count": 25,
   "id": "8907b4a6-935d-42f7-94d2-a777d1e4d3ef",
   "metadata": {},
   "outputs": [
    {
     "data": {
      "image/png": "[encoded data removed]",
      "text/plain": [
       "<Figure size 640x480 with 1 Axes>"
      ]
     },
     "metadata": {},
     "output_type": "display_data"
    }
   ],
   "source": [
    "plt.title(\"Отношения кол-ва операций сложения (CDF)\")\n",
    "plt.ecdf(additions_opt_to_base, label=\"opt/base\")\n",
    "# plt.title(\"Number of '+=' operations (CDF)\")\n",
    "# plt.ecdf(additions_base, label=\"base\")\n",
    "# plt.ecdf(additions_opt, label=\"opt\")\n",
    "plt.grid(True)\n",
    "plt.legend()\n",
    "plt.gcf().savefig(\"additions_opt_to_base\")\n",
    "plt.show()"
   ]
  },
  {
   "cell_type": "code",
   "execution_count": 26,
   "id": "1b0fc5c4-44f0-43e6-b89a-b3788cbf4a1a",
   "metadata": {},
   "outputs": [
    {
     "name": "stderr",
     "output_type": "stream",
     "text": [
      "<>:3: DeprecationWarning: invalid escape sequence '\\i'\n",
      "<>:3: DeprecationWarning: invalid escape sequence '\\i'\n",
      "/tmp/ipykernel_4679/2047294473.py:3: DeprecationWarning: invalid escape sequence '\\i'\n",
      "  fig.suptitle(\"Сравнение числа операций при вычислении коэффициентов синдрома ($k \\in [250; 500], r \\in [10; 20]$)\")\n"
     ]
    },
    {
     "data": {
      "image/png": "[encoded data removed]",
      "text/plain": [
       "<Figure size 1000x500 with 2 Axes>"
      ]
     },
     "metadata": {},
     "output_type": "display_data"
    }
   ],
   "source": [
    "fig, axs = plt.subplots(1, 2, figsize=(10, 5))\n",
    "\n",
    "fig.suptitle(\"Сравнение числа операций при вычислении коэффициентов синдрома ($k \\in [250; 500], r \\in [10; 20]$)\")\n",
    "\n",
    "axs[0].set_title(\"Отношение числа операций сложения (CDF)\")\n",
    "axs[0].ecdf(additions_opt_to_base, label=\"cyclotomic/naive\")\n",
    "axs[0].set_xlabel(r\"$\\frac{NoA_{cyclotomic}}{NoA_{naive}}$\", fontsize=16)\n",
    "axs[0].grid(True)\n",
    "# axs[0].legend()\n",
    "\n",
    "axs[1].set_title(\"Отношение числа операций умножения (CDF)\")\n",
    "axs[1].ecdf(multiplications_opt_to_base, label=\"cyclotomic/naive\")\n",
    "axs[1].set_xlabel(r\"$\\frac{NoM_{cyclotomic}}{NoM_{naive}}$\", fontsize=16)\n",
    "axs[1].grid(True)\n",
    "# axs[1].legend()\n",
    "\n",
    "fig.tight_layout()\n",
    "\n",
    "fig.savefig(\"s_additions_and_multiplications_opt_to_base.png\")\n",
    "\n",
    "plt.show()"
   ]
  },
  {
   "cell_type": "code",
   "execution_count": 27,
   "id": "829ce5e4-58a9-4b3a-a51c-d7a37ad78941",
   "metadata": {},
   "outputs": [],
   "source": [
    "# plt.title(\"Ratio 'add_opt/mul_base' (CDF)\")\n",
    "# plt.ecdf(list(map(lambda t: t[0] / t[1], zip(additions_opt, multiplications_base))))\n",
    "# plt.grid(True)\n",
    "# plt.show()"
   ]
  },
  {
   "cell_type": "code",
   "execution_count": 28,
   "id": "139c5988-79c5-4fce-a474-cd797d471227",
   "metadata": {},
   "outputs": [
    {
     "name": "stdout",
     "output_type": "stream",
     "text": [
      "r = 24 positions_cnt = 114\n",
      "Base: (2736, 2736)\n",
      "Opt: (10982, 369)\n"
     ]
    }
   ],
   "source": [
    "r = random.randint(10, 50)\n",
    "positions_cnt = random.randint(100, 255)\n",
    "positions = sorted(random.sample(range(N), positions_cnt))\n",
    "# positions_cnt = random.randint(100, 255) + 2\n",
    "# positions = sorted(random.sample(range(N), positions_cnt - 2) + cyclotomic_cosets_by_size[2][0])\n",
    "\n",
    "f = [F.random_element() for _ in range(positions_cnt)]\n",
    "\n",
    "dft_base, counters_base = discrete_fourier_transform_f_base(r, positions, f)\n",
    "dft_opt, counters_opt = discrete_fourier_transform_f_opt(r, positions, f)\n",
    "# dft_cycl, counters_cycl = discrete_fourier_transform_f_cycl(r, positions, f)\n",
    "\n",
    "assert dft_base == dft_opt\n",
    "# assert dft_base == dft_cycl\n",
    "print(\"r =\", r, \"positions_cnt =\", positions_cnt)\n",
    "print(\"Base:\", counters_base)\n",
    "print(\"Opt:\", counters_opt)\n",
    "# print(\"Cycl:\", counters_cycl)"
   ]
  },
  {
   "cell_type": "markdown",
   "id": "9b80f6e0-d269-446a-b3cf-68449dfd3a98",
   "metadata": {},
   "source": [
    "### Tests for C code"
   ]
  },
  {
   "cell_type": "code",
   "execution_count": 29,
   "id": "5cfc5410-5026-4c09-8980-a79dc478c56c",
   "metadata": {},
   "outputs": [],
   "source": [
    "def generate_test_code_f(symbol_size, r, positions_cnt):\n",
    "    def symbol_seq_to_struct_init(s, symbol_size, l):\n",
    "        # s is transposed relative to C code repr\n",
    "        return \"{\" + \", \".join(\n",
    "        \"{\" + \", \".join(\n",
    "            str(s[i][j].to_integer()) \n",
    "            for i in range(symbol_size)\n",
    "        ) + \"}\" \n",
    "        for j in range(l)\n",
    "    ) + \"}\"\n",
    "    \n",
    "    def symbols_data_to_symbols(data_name, l):\n",
    "        return \"{\" + \", \".join(\n",
    "            f\"{{.data = {data_name}[{i}]}}\"\n",
    "            for i in range(l)\n",
    "        ) + \"}\"\n",
    "    \n",
    "    positions = random.sample(range(N), positions_cnt)\n",
    "    f = [[F.random_element() for _ in range(positions_cnt)] for _ in range(symbol_size)]\n",
    "\n",
    "    dft_base = [None] * symbol_size\n",
    "    counters_base = [None] * symbol_size\n",
    "    dft_opt = [None] * symbol_size\n",
    "    counters_opt = [None] * symbol_size\n",
    "\n",
    "    for i in range(symbol_size):\n",
    "        dft_base[i], counters_base[i] = discrete_fourier_transform_f_base(r, positions, f[i])\n",
    "        dft_opt[i], counters_opt[i] = discrete_fourier_transform_f_opt(r, positions, f[i])\n",
    "\n",
    "        assert dft_base[i] == dft_opt[i]\n",
    "    \n",
    "    print(\"positions = \", positions)\n",
    "\n",
    "    print(\"Base:\", counters_base)\n",
    "    print(\"Opt:\", counters_opt)\n",
    "    \n",
    "    f_symbols_data = symbol_seq_to_struct_init(f, symbol_size, positions_cnt)\n",
    "    res_symbols_data = symbol_seq_to_struct_init(dft_base, symbol_size, r)\n",
    "    f_symbols = symbols_data_to_symbols(\"f_symbols_data\", positions_cnt)\n",
    "    res_symbols = symbols_data_to_symbols(\"res_symbols_data\", r)\n",
    "    positions_str = \"{\" + \", \".join(map(str, positions)) + \"}\"\n",
    "        \n",
    "    test_code = f\"\"\"{{\n",
    "    element_t f_symbols_data[{positions_cnt}][{symbol_size}] = {f_symbols_data};\n",
    "    element_t res_symbols_data[{r}][{symbol_size}] = {res_symbols_data};\n",
    "    symbol_t f_symbols[{positions_cnt}] = {f_symbols};\n",
    "    symbol_t res_symbols[{r}] = {res_symbols}; \n",
    "    symbol_seq_t f = {{.symbol_size = {symbol_size}, .length = {positions_cnt}, .symbols = f_symbols}};\n",
    "    symbol_seq_t res = {{.symbol_size = {symbol_size}, .length = {r}, .symbols = res_symbols}};\n",
    "    uint16_t positions[{positions_cnt}] = {positions_str};\n",
    "\n",
    "    TEST_WRAPPER(fft, f, positions, res);\n",
    "}}\"\"\"\n",
    "    \n",
    "    print(\"Test code:\\n\" + test_code)"
   ]
  },
  {
   "cell_type": "code",
   "execution_count": 30,
   "id": "5b66cf12-da14-4a19-891d-1c2666065400",
   "metadata": {},
   "outputs": [
    {
     "name": "stdout",
     "output_type": "stream",
     "text": [
      "positions =  [38126, 53446, 13980, 17533, 7630, 6129, 24698, 43414, 61313, 12899, 38348]\n",
      "Base: [(132, 132)]\n",
      "Opt: [(528, 177)]\n",
      "Test code:\n",
      "{\n",
      "    element_t f_symbols_data[11][1] = {{21189}, {8431}, {48347}, {28003}, {53284}, {29350}, {26984}, {51876}, {45820}, {64673}, {51394}};\n",
      "    element_t res_symbols_data[12][1] = {{9283}, {13944}, {35046}, {33355}, {35625}, {26254}, {62933}, {27206}, {55863}, {22619}, {5820}, {29514}};\n",
      "    symbol_t f_symbols[11] = {{.data = f_symbols_data[0]}, {.data = f_symbols_data[1]}, {.data = f_symbols_data[2]}, {.data = f_symbols_data[3]}, {.data = f_symbols_data[4]}, {.data = f_symbols_data[5]}, {.data = f_symbols_data[6]}, {.data = f_symbols_data[7]}, {.data = f_symbols_data[8]}, {.data = f_symbols_data[9]}, {.data = f_symbols_data[10]}};\n",
      "    symbol_t res_symbols[12] = {{.data = res_symbols_data[0]}, {.data = res_symbols_data[1]}, {.data = res_symbols_data[2]}, {.data = res_symbols_data[3]}, {.data = res_symbols_data[4]}, {.data = res_symbols_data[5]}, {.data = res_symbols_data[6]}, {.data = res_symbols_data[7]}, {.data = res_symbols_data[8]}, {.data = res_symbols_data[9]}, {.data = res_symbols_data[10]}, {.data = res_symbols_data[11]}}; \n",
      "    symbol_seq_t f = {.symbol_size = 1, .length = 11, .symbols = f_symbols};\n",
      "    symbol_seq_t res = {.symbol_size = 1, .length = 12, .symbols = res_symbols};\n",
      "    uint16_t positions[11] = {38126, 53446, 13980, 17533, 7630, 6129, 24698, 43414, 61313, 12899, 38348};\n",
      "\n",
      "    TEST_WRAPPER(fft, f, positions, res);\n",
      "}\n"
     ]
    }
   ],
   "source": [
    "# Test 1\n",
    "\n",
    "symbol_size = 1\n",
    "r = random.randint(10, 20)\n",
    "positions_cnt = random.randint(10, 20)\n",
    "\n",
    "generate_test_code_f(symbol_size, r, positions_cnt)"
   ]
  },
  {
   "cell_type": "code",
   "execution_count": 31,
   "id": "64830ad4-802b-419b-af30-c39e5863c3db",
   "metadata": {},
   "outputs": [
    {
     "name": "stdout",
     "output_type": "stream",
     "text": [
      "positions =  [46792, 13816, 31874, 5760, 21914, 34235, 42454]\n",
      "Base: [(63, 63), (63, 63)]\n",
      "Opt: [(234, 129), (234, 129)]\n",
      "Test code:\n",
      "{\n",
      "    element_t f_symbols_data[7][2] = {{2912, 42761}, {760, 59997}, {54207, 18013}, {52113, 55971}, {44911, 1885}, {36179, 51799}, {51782, 39258}};\n",
      "    element_t res_symbols_data[9][2] = {{63948, 34298}, {34641, 26120}, {44259, 19563}, {49455, 48919}, {38917, 1594}, {37130, 5648}, {19096, 510}, {6050, 1647}, {47910, 52328}};\n",
      "    symbol_t f_symbols[7] = {{.data = f_symbols_data[0]}, {.data = f_symbols_data[1]}, {.data = f_symbols_data[2]}, {.data = f_symbols_data[3]}, {.data = f_symbols_data[4]}, {.data = f_symbols_data[5]}, {.data = f_symbols_data[6]}};\n",
      "    symbol_t res_symbols[9] = {{.data = res_symbols_data[0]}, {.data = res_symbols_data[1]}, {.data = res_symbols_data[2]}, {.data = res_symbols_data[3]}, {.data = res_symbols_data[4]}, {.data = res_symbols_data[5]}, {.data = res_symbols_data[6]}, {.data = res_symbols_data[7]}, {.data = res_symbols_data[8]}}; \n",
      "    symbol_seq_t f = {.symbol_size = 2, .length = 7, .symbols = f_symbols};\n",
      "    symbol_seq_t res = {.symbol_size = 2, .length = 9, .symbols = res_symbols};\n",
      "    uint16_t positions[7] = {46792, 13816, 31874, 5760, 21914, 34235, 42454};\n",
      "\n",
      "    TEST_WRAPPER(fft, f, positions, res);\n",
      "}\n"
     ]
    }
   ],
   "source": [
    "# Test 2\n",
    "\n",
    "symbol_size = 2\n",
    "r = random.randint(5, 15)\n",
    "positions_cnt = random.randint(5, 15)\n",
    "\n",
    "generate_test_code_f(symbol_size, r, positions_cnt)"
   ]
  },
  {
   "cell_type": "code",
   "execution_count": 32,
   "id": "c06bd4c6-e9cc-49fc-a9be-0fc86bbdb905",
   "metadata": {},
   "outputs": [
    {
     "name": "stdout",
     "output_type": "stream",
     "text": [
      "positions =  [55357, 31567, 59989, 56204, 2590, 15690, 24914]\n",
      "Base: [(56, 56), (56, 56), (56, 56)]\n",
      "Opt: [(236, 113), (236, 113), (236, 113)]\n",
      "Test code:\n",
      "{\n",
      "    element_t f_symbols_data[7][3] = {{6709, 46844, 43656}, {13531, 30334, 62189}, {4006, 15633, 5558}, {32118, 9374, 32443}, {47329, 55763, 26074}, {30138, 63745, 34116}, {52780, 23105, 3554}};\n",
      "    element_t res_symbols_data[8][3] = {{24393, 41886, 56852}, {56531, 44337, 60338}, {50890, 35640, 19336}, {53241, 53394, 21316}, {64890, 53754, 47741}, {15502, 37143, 28566}, {29604, 13800, 30511}, {28826, 36004, 51215}};\n",
      "    symbol_t f_symbols[7] = {{.data = f_symbols_data[0]}, {.data = f_symbols_data[1]}, {.data = f_symbols_data[2]}, {.data = f_symbols_data[3]}, {.data = f_symbols_data[4]}, {.data = f_symbols_data[5]}, {.data = f_symbols_data[6]}};\n",
      "    symbol_t res_symbols[8] = {{.data = res_symbols_data[0]}, {.data = res_symbols_data[1]}, {.data = res_symbols_data[2]}, {.data = res_symbols_data[3]}, {.data = res_symbols_data[4]}, {.data = res_symbols_data[5]}, {.data = res_symbols_data[6]}, {.data = res_symbols_data[7]}}; \n",
      "    symbol_seq_t f = {.symbol_size = 3, .length = 7, .symbols = f_symbols};\n",
      "    symbol_seq_t res = {.symbol_size = 3, .length = 8, .symbols = res_symbols};\n",
      "    uint16_t positions[7] = {55357, 31567, 59989, 56204, 2590, 15690, 24914};\n",
      "\n",
      "    TEST_WRAPPER(fft, f, positions, res);\n",
      "}\n"
     ]
    }
   ],
   "source": [
    "# Test 3\n",
    "\n",
    "symbol_size = 3\n",
    "r = random.randint(5, 10)\n",
    "positions_cnt = random.randint(5, 10)\n",
    "\n",
    "generate_test_code_f(symbol_size, r, positions_cnt)"
   ]
  },
  {
   "cell_type": "markdown",
   "id": "c1e9d1e8-4e6b-422e-9ab2-759551269b8d",
   "metadata": {},
   "source": [
    "## $\\tilde{\\mathcal{F}}_{\\Omega, d}(f) - \\text{computes $F_j = f(a^j)$, $j \\in \\Omega$ for any polynomial $f(x)$ of degree $d-1$}$"
   ]
  },
  {
   "cell_type": "markdown",
   "id": "724dd9c5-2c5f-42f2-b1ea-5f3a5708e734",
   "metadata": {},
   "source": [
    "### Implementation"
   ]
  },
  {
   "cell_type": "code",
   "execution_count": 33,
   "id": "603d0283-e8e8-4244-91f4-b8307e833fcc",
   "metadata": {},
   "outputs": [],
   "source": [
    "def discrete_fourier_transform_f1_base(components, d, f):\n",
    "    assert len(components) <= N\n",
    "    assert d == len(f)\n",
    "    \n",
    "    op = Op()\n",
    "    \n",
    "    dft = [0 for _ in range(len(components))]\n",
    "    \n",
    "    for j, comp in enumerate(components):\n",
    "        for i, f_i in enumerate(f):\n",
    "            dft[j] = op.add(dft[j], op.mul(f_i, a^(i * comp)))\n",
    "    \n",
    "    return dft, op.counters()"
   ]
  },
  {
   "cell_type": "code",
   "execution_count": 34,
   "id": "31e3b0fb-25d2-4d15-a672-e9ca4453ca79",
   "metadata": {},
   "outputs": [],
   "source": [
    "def discrete_fourier_transform_f1_opt(components, d, f):\n",
    "    assert len(components) <= N\n",
    "    assert d == len(f)\n",
    "    \n",
    "    op = Op()\n",
    "    \n",
    "    dft_d = defaultdict(lambda: 0)\n",
    "    calculated_d = defaultdict(lambda: False)\n",
    "    \n",
    "    for s in components:\n",
    "        if calculated_d[s]:\n",
    "            continue\n",
    "            \n",
    "        m = s_to_m[s]\n",
    "        \n",
    "        u_s = [0 for _ in range(m)]\n",
    "        for t in range(m):\n",
    "            for i, f_i in enumerate(f):\n",
    "                a_s_t_i = A_s_t_i(s, t, i) # A_s_t_i(s, t, i) in {0, 1}\n",
    "                if a_s_t_i == 1:\n",
    "                    u_s[t] = op.add(u_s[t], f_i)\n",
    "        \n",
    "        b_s = [0 for _ in range(m)]\n",
    "        \n",
    "        g_s = [0 for _ in range(m)]\n",
    "        for i in range(m):\n",
    "            g_s[i] = normal_basis_by_m[m][(m - i) % m]\n",
    "\n",
    "        idx = s\n",
    "        for j in range(m):\n",
    "            if idx in components:\n",
    "                for t in range(m):\n",
    "                    b_s[j] = op.add(b_s[j], op.mul(u_s[t], g_s[(2 * m - j - t) % m]))\n",
    "            idx = (idx * 2) % N\n",
    "        \n",
    "        idx = s\n",
    "        for i in range(m):\n",
    "            if idx in components:\n",
    "                dft_d[idx] = b_s[i]\n",
    "                calculated_d[idx] = True\n",
    "            idx = (idx * 2) % N\n",
    "    \n",
    "    dft = [dft_d[comp] for comp in components]\n",
    "    \n",
    "    return dft, op.counters()"
   ]
  },
  {
   "cell_type": "code",
   "execution_count": 35,
   "id": "be7da868-9f3c-47a9-9ac3-272aadb148f4",
   "metadata": {},
   "outputs": [],
   "source": [
    "def discrete_fourier_transform_f1_cycl(components, d, f):\n",
    "    assert len(components) <= N\n",
    "    assert d == len(f)\n",
    "    \n",
    "    op = Op()\n",
    "    \n",
    "    dft_d = defaultdict(lambda: 0)\n",
    "    calculated_d = defaultdict(lambda: False)\n",
    "    \n",
    "    for s in components:\n",
    "        if calculated_d[s]:\n",
    "            continue\n",
    "            \n",
    "        m = s_to_m[s]\n",
    "        \n",
    "        u_s = [0 for _ in range(m)]\n",
    "        for t in range(m):\n",
    "            for i, f_i in enumerate(f):\n",
    "                a_s_t_i = A_s_t_i(s, t, i) # A_s_t_i(s, t, i) in {0, 1}\n",
    "                if a_s_t_i == 1:\n",
    "                    u_s[t] = op.add(u_s[t], f_i)\n",
    "        \n",
    "        b_s = [0 for _ in range(m)]\n",
    "        \n",
    "        if m in cycl_m:\n",
    "            P, R = P_m[m], R_m[m]\n",
    "            \n",
    "            Vf = [0 for _ in range(len(R))]\n",
    "            for i, R_row in enumerate(R):\n",
    "                for j in range(m):\n",
    "                    if R_row[j] == 1:\n",
    "                        Vf[i] = op.add(Vf[i], u_s[j])\n",
    "            dVf = [op.mul(d_m[m][i], Vf[i]) for i in range(len(R))]\n",
    "            \n",
    "            for i, P_row in enumerate(P):\n",
    "                for j in range(len(dVf)):\n",
    "                    if P_row[j] == 1:\n",
    "                        b_s[i] = op.add(b_s[i], dVf[j])\n",
    "        else:\n",
    "            g_s = [0 for _ in range(m)]\n",
    "            for i in range(m):\n",
    "                g_s[i] = normal_basis_by_m[m][(m - i) % m]\n",
    "            \n",
    "            idx = s\n",
    "            for j in range(m):\n",
    "                if idx in components:\n",
    "                    for t in range(m):\n",
    "                        b_s[j] = op.add(b_s[j], op.mul(u_s[t], g_s[(2 * m - j - t) % m]))\n",
    "                idx = (idx * 2) % N\n",
    "        \n",
    "        idx = s\n",
    "        for i in range(m):\n",
    "            if idx in components:\n",
    "                dft_d[idx] = b_s[i]\n",
    "                calculated_d[idx] = True\n",
    "            idx = (idx * 2) % N\n",
    "    \n",
    "    dft = [dft_d[comp] for comp in components]\n",
    "    \n",
    "    return dft, op.counters()"
   ]
  },
  {
   "cell_type": "markdown",
   "id": "e1a744c2-6964-4339-9813-5a3ef1ba8556",
   "metadata": {},
   "source": [
    "### Tests"
   ]
  },
  {
   "cell_type": "code",
   "execution_count": 36,
   "id": "e2e5c932-3577-41aa-b7b4-8549c5b62545",
   "metadata": {},
   "outputs": [
    {
     "name": "stdout",
     "output_type": "stream",
     "text": [
      "Running test 10\n",
      "Running test 20\n",
      "Running test 30\n",
      "Running test 40\n",
      "Running test 50\n",
      "Running test 60\n",
      "Running test 70\n",
      "Running test 80\n",
      "Running test 90\n",
      "Running test 100\n",
      "Tests completed\n"
     ]
    }
   ],
   "source": [
    "cases = 100\n",
    "\n",
    "additions_1_opt_to_base = []\n",
    "additions_1_cycl_to_base = []\n",
    "multiplications_1_opt_to_base = []\n",
    "multiplications_1_cycl_to_base = []\n",
    "\n",
    "for c in range(1, cases + 1):\n",
    "    if c % 10 == 0:\n",
    "        print(\"Running test\", c)\n",
    "    \n",
    "    components = random.choice(cyclotomic_cosets_by_size[1]) + \\\n",
    "                    random.choice(cyclotomic_cosets_by_size[2]) + \\\n",
    "                    random.choice(cyclotomic_cosets_by_size[4]) + \\\n",
    "                    random.choice(cyclotomic_cosets_by_size[8][:15]) + \\\n",
    "                    random.choice(cyclotomic_cosets_by_size[8][15:]) + \\\n",
    "                    random.choice(cyclotomic_cosets_by_size[16][:2000]) + \\\n",
    "                    random.choice(cyclotomic_cosets_by_size[16][2000:])\n",
    "    # for _ in range(9):\n",
    "    #     comp = random.randint(0, N-1)\n",
    "    #     if comp not in components:\n",
    "    #         components.append(comp)\n",
    "    # random.shuffle(components)\n",
    "    \n",
    "    # d = random.randint(10, 20)\n",
    "    d = len(components)\n",
    "    f = [F.random_element() for _ in range(d)]\n",
    "    \n",
    "    dft_base, counters_base = discrete_fourier_transform_f1_base(components, d, f)\n",
    "    dft_opt, counters_opt = discrete_fourier_transform_f1_opt(components, d, f)\n",
    "    dft_cycl, counters_cycl = discrete_fourier_transform_f1_cycl(components, d, f)\n",
    "    assert dft_base == dft_opt\n",
    "    assert dft_base == dft_cycl\n",
    "    \n",
    "    additions_1_opt_to_base.append(counters_opt[0] / counters_base[0])\n",
    "    additions_1_cycl_to_base.append(counters_cycl[0] / counters_base[0])\n",
    "    multiplications_1_opt_to_base.append(counters_opt[1] / counters_base[1])\n",
    "    multiplications_1_cycl_to_base.append(counters_cycl[1] / counters_base[1])\n",
    "\n",
    "print(\"Tests completed\")"
   ]
  },
  {
   "cell_type": "code",
   "execution_count": 37,
   "id": "f68b85d4-bcd6-4b7a-bed6-55e0159e907e",
   "metadata": {},
   "outputs": [
    {
     "data": {
      "image/png": "[encoded data removed]",
      "text/plain": [
       "<Figure size 640x480 with 1 Axes>"
      ]
     },
     "metadata": {},
     "output_type": "display_data"
    }
   ],
   "source": [
    "plt.title(\"Number of '*' operations (CDF)\")\n",
    "plt.ecdf(multiplications_1_opt_to_base, label=\"opt/base\")\n",
    "plt.ecdf(multiplications_1_cycl_to_base, label=\"cycl/base\")\n",
    "plt.grid(True)\n",
    "plt.legend()\n",
    "plt.show()"
   ]
  },
  {
   "cell_type": "code",
   "execution_count": 38,
   "id": "2698055a-da43-49c7-924f-9757b7d0c559",
   "metadata": {},
   "outputs": [
    {
     "data": {
      "image/png": "[encoded data removed]",
      "text/plain": [
       "<Figure size 640x480 with 1 Axes>"
      ]
     },
     "metadata": {},
     "output_type": "display_data"
    }
   ],
   "source": [
    "plt.title(\"Number of '+' operations (CDF)\")\n",
    "plt.ecdf(additions_1_opt_to_base, label=\"opt/base\")\n",
    "plt.ecdf(additions_1_cycl_to_base, label=\"cycl/base\")\n",
    "plt.grid(True)\n",
    "plt.legend()\n",
    "plt.show()"
   ]
  },
  {
   "cell_type": "code",
   "execution_count": 39,
   "id": "8c2e765b-ce88-4a35-9c84-65f426a03c95",
   "metadata": {},
   "outputs": [
    {
     "data": {
      "image/png": "[encoded data removed]",
      "text/plain": [
       "<Figure size 1000x500 with 2 Axes>"
      ]
     },
     "metadata": {},
     "output_type": "display_data"
    }
   ],
   "source": [
    "fig, axs = plt.subplots(1, 2, figsize=(10, 5))\n",
    "\n",
    "fig.suptitle(\"Сравнение числа операций при вычислении проверочных символов ($r = 55$)\")\n",
    "\n",
    "axs[0].set_title(\"Отношение числа операций сложения (CDF)\")\n",
    "axs[0].ecdf(additions_1_opt_to_base)\n",
    "axs[0].set_xlabel(r\"$\\frac{NoA_{cyclotomic}}{NoA_{naive}}$\", fontsize=16)\n",
    "axs[0].grid(True)\n",
    "# axs[0].legend()\n",
    "\n",
    "axs[1].set_title(\"Отношение числа операций умножения (CDF)\")\n",
    "axs[1].ecdf(multiplications_1_opt_to_base)\n",
    "axs[1].set_xlabel(r\"$\\frac{NoM_{cyclotomic}}{NoM_{naive}}$\", fontsize=16)\n",
    "axs[1].grid(True)\n",
    "# axs[1].legend()\n",
    "\n",
    "fig.tight_layout()\n",
    "\n",
    "fig.savefig(\"gamma_additions_and_multiplications_opt_to_base.png\")\n",
    "\n",
    "plt.show()"
   ]
  },
  {
   "cell_type": "code",
   "execution_count": 40,
   "id": "c242151f-f0dd-492f-b530-3161b97d622b",
   "metadata": {},
   "outputs": [
    {
     "name": "stdout",
     "output_type": "stream",
     "text": [
      "components_cnt = 8 d = 200\n",
      "Base: (1600, 1600)\n",
      "Opt: (874, 64)\n",
      "Cycl: (954, 24)\n"
     ]
    }
   ],
   "source": [
    "components = cyclotomic_cosets_by_size[8][0]\n",
    "d = 200\n",
    "f = [F.random_element() for _ in range(d)]\n",
    "\n",
    "dft_base, counters_base = discrete_fourier_transform_f1_base(components, d, f)\n",
    "dft_opt, counters_opt = discrete_fourier_transform_f1_opt(components, d, f)\n",
    "dft_cycl, counters_cycl = discrete_fourier_transform_f1_cycl(components, d, f)\n",
    "\n",
    "# print(dft_base[:5])\n",
    "# print(dft_cycl[:5])\n",
    "\n",
    "assert dft_base == dft_opt\n",
    "assert dft_base == dft_cycl\n",
    "print(\"components_cnt =\", len(components), \"d =\", d)\n",
    "print(\"Base:\", counters_base)\n",
    "print(\"Opt:\", counters_opt)\n",
    "print(\"Cycl:\", counters_cycl)"
   ]
  },
  {
   "cell_type": "markdown",
   "id": "2adc2f26-3342-4fce-b5ee-32072ac58733",
   "metadata": {},
   "source": [
    "### Tests for C code"
   ]
  },
  {
   "cell_type": "code",
   "execution_count": 41,
   "id": "6fd3aecc-55c5-4f37-bdba-7900e63af9a2",
   "metadata": {},
   "outputs": [],
   "source": [
    "def generate_test_code_f1(symbol_size, d):\n",
    "    def symbol_seq_to_struct_init(s, symbol_size, l):\n",
    "        # s is transposed relative to C code repr\n",
    "        return \"{\" + \", \".join(\n",
    "        \"{\" + \", \".join(\n",
    "            str(s[i][j].to_integer()) \n",
    "            for i in range(symbol_size)\n",
    "        ) + \"}\" \n",
    "        for j in range(l)\n",
    "    ) + \"}\"\n",
    "    \n",
    "    def symbols_data_to_symbols(data_name, l):\n",
    "        return \"{\" + \", \".join(\n",
    "            f\"{{.data = {data_name}[{i}]}}\"\n",
    "            for i in range(l)\n",
    "        ) + \"}\"\n",
    "    \n",
    "    coset_sizes = random.sample([1, 2, 4, 8, 16], 3)\n",
    "    components = []\n",
    "    for m in coset_sizes:\n",
    "        components.extend(random.choice(cyclotomic_cosets_by_size[m]))\n",
    "    for _ in range(3):\n",
    "        comp = random.randint(0, N-1)\n",
    "        if comp not in components:\n",
    "            components.append(comp)\n",
    "    random.shuffle(components)\n",
    "    \n",
    "    # C function have a bit different interface\n",
    "    components_to_f1 = [(N - c) % N for c in components]\n",
    "    \n",
    "    f = [[F.random_element() for _ in range(d)] for _ in range(symbol_size)]\n",
    "\n",
    "    dft_base = [None] * symbol_size\n",
    "    counters_base = [None] * symbol_size\n",
    "    dft_opt = [None] * symbol_size\n",
    "    counters_opt = [None] * symbol_size\n",
    "\n",
    "    for i in range(symbol_size):\n",
    "        dft_base[i], counters_base[i] = discrete_fourier_transform_f1_base(components_to_f1, d, f[i])\n",
    "        dft_opt[i], counters_opt[i] = discrete_fourier_transform_f1_opt(components_to_f1, d, f[i])\n",
    "\n",
    "        assert dft_base[i] == dft_opt[i]\n",
    "    \n",
    "    print(\"positions = \", positions)\n",
    "\n",
    "    print(\"Base:\", counters_base)\n",
    "    print(\"Opt:\", counters_opt)\n",
    "    \n",
    "    f_symbols_data = symbol_seq_to_struct_init(f, symbol_size, d)\n",
    "    res_symbols_data = symbol_seq_to_struct_init(dft_base, symbol_size, len(components))\n",
    "    f_symbols = symbols_data_to_symbols(\"f_symbols_data\", d)\n",
    "    res_symbols = symbols_data_to_symbols(\"res_symbols_data\", len(components))\n",
    "    components_str = \"{\" + \", \".join(map(str, components)) + \"}\"\n",
    "        \n",
    "    test_code = f\"\"\"{{\n",
    "    element_t f_symbols_data[{d}][{symbol_size}] = {f_symbols_data};\n",
    "    element_t res_symbols_data[{len(components)}][{symbol_size}] = {res_symbols_data};\n",
    "    symbol_t f_symbols[{d}] = {f_symbols};\n",
    "    symbol_t res_symbols[{len(components)}] = {res_symbols}; \n",
    "    symbol_seq_t f = {{.symbol_size = {symbol_size}, .length = {d}, .symbols = f_symbols}};\n",
    "    symbol_seq_t res = {{.symbol_size = {symbol_size}, .length = {len(components)}, .symbols = res_symbols}};\n",
    "    uint16_t components[{len(components)}] = {components_str};\n",
    "\n",
    "    TEST_WRAPPER(fft, f, res, components);\n",
    "}}\"\"\"\n",
    "    \n",
    "    print(\"Test code:\\n\" + test_code)"
   ]
  },
  {
   "cell_type": "code",
   "execution_count": 42,
   "id": "b52eb6bb-7cb8-4289-8f43-77d5ca0fdac9",
   "metadata": {},
   "outputs": [
    {
     "name": "stdout",
     "output_type": "stream",
     "text": [
      "positions =  [749, 1148, 1209, 1729, 2091, 2092, 2149, 2490, 4667, 4750, 4752, 5028, 5036, 6232, 6527, 7850, 9124, 9225, 9484, 9491, 10140, 10537, 10626, 10968, 11920, 13270, 13855, 15163, 15982, 16599, 17396, 17557, 18162, 19048, 19072, 20993, 21265, 22396, 22426, 23718, 23868, 24432, 24734, 25059, 25108, 25545, 26893, 28370, 28391, 29871, 29901, 30086, 31290, 31294, 32087, 34226, 34811, 35810, 38000, 38434, 38583, 38923, 38950, 39907, 40406, 40926, 41044, 41958, 42585, 42632, 43090, 43185, 43688, 43933, 44096, 44127, 44488, 44514, 45387, 45568, 45652, 47072, 47463, 47852, 48037, 48101, 48199, 48648, 48783, 48943, 49624, 50598, 50994, 51483, 51788, 51979, 53547, 53961, 54146, 54210, 54559, 55358, 55799, 56212, 57933, 58055, 58472, 58887, 59368, 60258, 63739, 63797, 64789, 65493]\n",
      "Base: [(672, 672)]\n",
      "Opt: [(1267, 369)]\n",
      "Test code:\n",
      "{\n",
      "    element_t f_symbols_data[24][1] = {{55442}, {28937}, {37767}, {45205}, {6955}, {33846}, {29900}, {29312}, {45851}, {14313}, {11495}, {39040}, {24765}, {13322}, {5613}, {50857}, {43452}, {8106}, {7365}, {38036}, {56991}, {20337}, {6029}, {41587}};\n",
      "    element_t res_symbols_data[28][1] = {{6814}, {48400}, {24297}, {23092}, {14010}, {64984}, {46487}, {58573}, {22141}, {20982}, {3989}, {58144}, {17325}, {60311}, {12277}, {50169}, {16703}, {26898}, {12313}, {32354}, {14689}, {48873}, {44718}, {43895}, {46783}, {53181}, {48062}, {848}};\n",
      "    symbol_t f_symbols[24] = {{.data = f_symbols_data[0]}, {.data = f_symbols_data[1]}, {.data = f_symbols_data[2]}, {.data = f_symbols_data[3]}, {.data = f_symbols_data[4]}, {.data = f_symbols_data[5]}, {.data = f_symbols_data[6]}, {.data = f_symbols_data[7]}, {.data = f_symbols_data[8]}, {.data = f_symbols_data[9]}, {.data = f_symbols_data[10]}, {.data = f_symbols_data[11]}, {.data = f_symbols_data[12]}, {.data = f_symbols_data[13]}, {.data = f_symbols_data[14]}, {.data = f_symbols_data[15]}, {.data = f_symbols_data[16]}, {.data = f_symbols_data[17]}, {.data = f_symbols_data[18]}, {.data = f_symbols_data[19]}, {.data = f_symbols_data[20]}, {.data = f_symbols_data[21]}, {.data = f_symbols_data[22]}, {.data = f_symbols_data[23]}};\n",
      "    symbol_t res_symbols[28] = {{.data = res_symbols_data[0]}, {.data = res_symbols_data[1]}, {.data = res_symbols_data[2]}, {.data = res_symbols_data[3]}, {.data = res_symbols_data[4]}, {.data = res_symbols_data[5]}, {.data = res_symbols_data[6]}, {.data = res_symbols_data[7]}, {.data = res_symbols_data[8]}, {.data = res_symbols_data[9]}, {.data = res_symbols_data[10]}, {.data = res_symbols_data[11]}, {.data = res_symbols_data[12]}, {.data = res_symbols_data[13]}, {.data = res_symbols_data[14]}, {.data = res_symbols_data[15]}, {.data = res_symbols_data[16]}, {.data = res_symbols_data[17]}, {.data = res_symbols_data[18]}, {.data = res_symbols_data[19]}, {.data = res_symbols_data[20]}, {.data = res_symbols_data[21]}, {.data = res_symbols_data[22]}, {.data = res_symbols_data[23]}, {.data = res_symbols_data[24]}, {.data = res_symbols_data[25]}, {.data = res_symbols_data[26]}, {.data = res_symbols_data[27]}}; \n",
      "    symbol_seq_t f = {.symbol_size = 1, .length = 24, .symbols = f_symbols};\n",
      "    symbol_seq_t res = {.symbol_size = 1, .length = 28, .symbols = res_symbols};\n",
      "    uint16_t components[28] = {15011, 35842, 60044, 54553, 29298, 43214, 40092, 40273, 51657, 55375, 43571, 58596, 20046, 6613, 39438, 10023, 18037, 52904, 41786, 21607, 37779, 0, 26452, 36074, 14649, 20893, 30022, 13226};\n",
      "\n",
      "    TEST_WRAPPER(fft, f, res, components);\n",
      "}\n"
     ]
    }
   ],
   "source": [
    "# Test 1\n",
    "\n",
    "symbol_size = 1\n",
    "d = random.randint(15, 25)\n",
    "\n",
    "generate_test_code_f1(symbol_size, d)"
   ]
  },
  {
   "cell_type": "code",
   "execution_count": 43,
   "id": "ac4d4523-885e-403d-a6c3-10fd7b0bd133",
   "metadata": {},
   "outputs": [
    {
     "name": "stdout",
     "output_type": "stream",
     "text": [
      "positions =  [749, 1148, 1209, 1729, 2091, 2092, 2149, 2490, 4667, 4750, 4752, 5028, 5036, 6232, 6527, 7850, 9124, 9225, 9484, 9491, 10140, 10537, 10626, 10968, 11920, 13270, 13855, 15163, 15982, 16599, 17396, 17557, 18162, 19048, 19072, 20993, 21265, 22396, 22426, 23718, 23868, 24432, 24734, 25059, 25108, 25545, 26893, 28370, 28391, 29871, 29901, 30086, 31290, 31294, 32087, 34226, 34811, 35810, 38000, 38434, 38583, 38923, 38950, 39907, 40406, 40926, 41044, 41958, 42585, 42632, 43090, 43185, 43688, 43933, 44096, 44127, 44488, 44514, 45387, 45568, 45652, 47072, 47463, 47852, 48037, 48101, 48199, 48648, 48783, 48943, 49624, 50598, 50994, 51483, 51788, 51979, 53547, 53961, 54146, 54210, 54559, 55358, 55799, 56212, 57933, 58055, 58472, 58887, 59368, 60258, 63739, 63797, 64789, 65493]\n",
      "Base: [(168, 168), (168, 168)]\n",
      "Opt: [(536, 117), (536, 117)]\n",
      "Test code:\n",
      "{\n",
      "    element_t f_symbols_data[12][2] = {{56297, 53943}, {38194, 55616}, {40329, 27065}, {6546, 6327}, {3601, 57176}, {5544, 43160}, {57450, 41205}, {50465, 45901}, {9943, 21063}, {50002, 49712}, {11959, 53176}, {17979, 6483}};\n",
      "    element_t res_symbols_data[14][2] = {{1162, 15691}, {61727, 58430}, {14304, 2102}, {10558, 40801}, {21918, 38056}, {43729, 54940}, {44952, 63726}, {3149, 7927}, {25154, 63422}, {31035, 22557}, {53095, 53131}, {18376, 4111}, {31137, 23721}, {42304, 35703}};\n",
      "    symbol_t f_symbols[12] = {{.data = f_symbols_data[0]}, {.data = f_symbols_data[1]}, {.data = f_symbols_data[2]}, {.data = f_symbols_data[3]}, {.data = f_symbols_data[4]}, {.data = f_symbols_data[5]}, {.data = f_symbols_data[6]}, {.data = f_symbols_data[7]}, {.data = f_symbols_data[8]}, {.data = f_symbols_data[9]}, {.data = f_symbols_data[10]}, {.data = f_symbols_data[11]}};\n",
      "    symbol_t res_symbols[14] = {{.data = res_symbols_data[0]}, {.data = res_symbols_data[1]}, {.data = res_symbols_data[2]}, {.data = res_symbols_data[3]}, {.data = res_symbols_data[4]}, {.data = res_symbols_data[5]}, {.data = res_symbols_data[6]}, {.data = res_symbols_data[7]}, {.data = res_symbols_data[8]}, {.data = res_symbols_data[9]}, {.data = res_symbols_data[10]}, {.data = res_symbols_data[11]}, {.data = res_symbols_data[12]}, {.data = res_symbols_data[13]}}; \n",
      "    symbol_seq_t f = {.symbol_size = 2, .length = 12, .symbols = f_symbols};\n",
      "    symbol_seq_t res = {.symbol_size = 2, .length = 14, .symbols = res_symbols};\n",
      "    uint16_t components[14] = {62194, 38807, 43690, 24158, 57221, 12079, 21845, 31097, 58853, 0, 49865, 50086, 48316, 52171};\n",
      "\n",
      "    TEST_WRAPPER(fft, f, res, components);\n",
      "}\n"
     ]
    }
   ],
   "source": [
    "# Test 2\n",
    "\n",
    "symbol_size = 2\n",
    "d = random.randint(10, 15)\n",
    "\n",
    "generate_test_code_f1(symbol_size, d)"
   ]
  },
  {
   "cell_type": "code",
   "execution_count": 44,
   "id": "24d701b4-317d-44e6-987a-46ef19a87511",
   "metadata": {},
   "outputs": [
    {
     "name": "stdout",
     "output_type": "stream",
     "text": [
      "positions =  [749, 1148, 1209, 1729, 2091, 2092, 2149, 2490, 4667, 4750, 4752, 5028, 5036, 6232, 6527, 7850, 9124, 9225, 9484, 9491, 10140, 10537, 10626, 10968, 11920, 13270, 13855, 15163, 15982, 16599, 17396, 17557, 18162, 19048, 19072, 20993, 21265, 22396, 22426, 23718, 23868, 24432, 24734, 25059, 25108, 25545, 26893, 28370, 28391, 29871, 29901, 30086, 31290, 31294, 32087, 34226, 34811, 35810, 38000, 38434, 38583, 38923, 38950, 39907, 40406, 40926, 41044, 41958, 42585, 42632, 43090, 43185, 43688, 43933, 44096, 44127, 44488, 44514, 45387, 45568, 45652, 47072, 47463, 47852, 48037, 48101, 48199, 48648, 48783, 48943, 49624, 50598, 50994, 51483, 51788, 51979, 53547, 53961, 54146, 54210, 54559, 55358, 55799, 56212, 57933, 58055, 58472, 58887, 59368, 60258, 63739, 63797, 64789, 65493]\n",
      "Base: [(144, 144), (144, 144), (144, 144)]\n",
      "Opt: [(445, 129), (445, 129), (445, 129)]\n",
      "Test code:\n",
      "{\n",
      "    element_t f_symbols_data[9][3] = {{20653, 30452, 43328}, {8977, 2670, 13126}, {64020, 16259, 49884}, {36656, 8540, 54669}, {64868, 8281, 42889}, {49429, 3039, 65086}, {26152, 64797, 56881}, {28421, 38089, 22501}, {43604, 31398, 40302}};\n",
      "    element_t res_symbols_data[16][3] = {{22703, 50305, 54872}, {7265, 48838, 63222}, {39312, 23217, 49242}, {2225, 10566, 38190}, {19702, 44765, 43279}, {39466, 29928, 20644}, {27342, 23390, 33159}, {33063, 57018, 45834}, {44165, 9101, 63304}, {63451, 23872, 29528}, {20169, 39528, 28334}, {5197, 30462, 55877}, {48817, 46538, 129}, {50123, 45676, 34820}, {38497, 37535, 23406}, {9546, 18404, 24455}};\n",
      "    symbol_t f_symbols[9] = {{.data = f_symbols_data[0]}, {.data = f_symbols_data[1]}, {.data = f_symbols_data[2]}, {.data = f_symbols_data[3]}, {.data = f_symbols_data[4]}, {.data = f_symbols_data[5]}, {.data = f_symbols_data[6]}, {.data = f_symbols_data[7]}, {.data = f_symbols_data[8]}};\n",
      "    symbol_t res_symbols[16] = {{.data = res_symbols_data[0]}, {.data = res_symbols_data[1]}, {.data = res_symbols_data[2]}, {.data = res_symbols_data[3]}, {.data = res_symbols_data[4]}, {.data = res_symbols_data[5]}, {.data = res_symbols_data[6]}, {.data = res_symbols_data[7]}, {.data = res_symbols_data[8]}, {.data = res_symbols_data[9]}, {.data = res_symbols_data[10]}, {.data = res_symbols_data[11]}, {.data = res_symbols_data[12]}, {.data = res_symbols_data[13]}, {.data = res_symbols_data[14]}, {.data = res_symbols_data[15]}}; \n",
      "    symbol_seq_t f = {.symbol_size = 3, .length = 9, .symbols = f_symbols};\n",
      "    symbol_seq_t res = {.symbol_size = 3, .length = 16, .symbols = res_symbols};\n",
      "    uint16_t components[16] = {59299, 11565, 0, 23130, 4369, 19275, 20148, 34952, 13601, 26985, 42405, 8738, 17476, 53970, 46260, 38550};\n",
      "\n",
      "    TEST_WRAPPER(fft, f, res, components);\n",
      "}\n"
     ]
    }
   ],
   "source": [
    "# Test 3\n",
    "\n",
    "symbol_size = 3\n",
    "d = random.randint(5, 10)\n",
    "\n",
    "generate_test_code_f1(symbol_size, d)"
   ]
  }
 ],
 "metadata": {
  "kernelspec": {
   "display_name": "SageMath 10.2",
   "language": "sage",
   "name": "sagemath"
  },
  "language_info": {
   "codemirror_mode": {
    "name": "ipython",
    "version": 3
   },
   "file_extension": ".py",
   "mimetype": "text/x-python",
   "name": "python",
   "nbconvert_exporter": "python",
   "pygments_lexer": "ipython3",
   "version": "3.11.2"
  }
 },
 "nbformat": 4,
 "nbformat_minor": 5
}

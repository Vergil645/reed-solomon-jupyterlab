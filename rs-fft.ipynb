{
 "cells": [
  {
   "cell_type": "code",
   "execution_count": 1,
   "id": "0a0978d3-2858-48e9-9b32-a3fba0a03af0",
   "metadata": {},
   "outputs": [],
   "source": [
    "import random\n",
    "\n",
    "from collections import defaultdict"
   ]
  },
  {
   "cell_type": "code",
   "execution_count": 2,
   "id": "68b8e509-b23b-4492-b5cc-7b91c922811a",
   "metadata": {},
   "outputs": [
    {
     "data": {
      "text/plain": [
       "65535"
      ]
     },
     "execution_count": 2,
     "metadata": {},
     "output_type": "execute_result"
    }
   ],
   "source": [
    "N = 2**16 - 1\n",
    "N"
   ]
  },
  {
   "cell_type": "markdown",
   "id": "d9bafae2-8fd8-4a60-b9ba-c855d9befa0c",
   "metadata": {
    "tags": []
   },
   "source": [
    "# Cyclotomic cosets modulo $N$ over $GF(2)$"
   ]
  },
  {
   "cell_type": "code",
   "execution_count": 3,
   "id": "af9121a2-2bcb-4891-aca5-889354e8e5dc",
   "metadata": {
    "tags": []
   },
   "outputs": [
    {
     "data": {
      "text/plain": [
       "[[0],\n",
       " [1, 2, 4, 8, 16, 32, 64, 128, 256, 512, 1024, 2048, 4096, 8192, 16384, 32768],\n",
       " [3,\n",
       "  6,\n",
       "  12,\n",
       "  24,\n",
       "  48,\n",
       "  96,\n",
       "  192,\n",
       "  384,\n",
       "  768,\n",
       "  1536,\n",
       "  3072,\n",
       "  6144,\n",
       "  12288,\n",
       "  24576,\n",
       "  49152,\n",
       "  32769]]"
      ]
     },
     "execution_count": 3,
     "metadata": {},
     "output_type": "execute_result"
    }
   ],
   "source": [
    "cyclotomic_cosets = []\n",
    "used = [False for _ in range(N)]\n",
    "for s in range(N):\n",
    "    if used[s]:\n",
    "        continue\n",
    "    used[s] = True\n",
    "    coset = [s]\n",
    "    cur_elem = (s * 2) % N\n",
    "    while cur_elem != s:\n",
    "        coset.append(cur_elem)\n",
    "        used[cur_elem] = True\n",
    "        cur_elem = (cur_elem * 2) % N\n",
    "    # coset.sort()\n",
    "    cyclotomic_cosets.append(coset)\n",
    "cyclotomic_cosets[:3]"
   ]
  },
  {
   "cell_type": "code",
   "execution_count": 4,
   "id": "1f795f62-db96-43d1-8788-d118835f209d",
   "metadata": {},
   "outputs": [
    {
     "name": "stdout",
     "output_type": "stream",
     "text": [
      "1 : 1\n",
      "2 : 1\n",
      "4 : 3\n",
      "8 : 30\n",
      "16 : 4080\n"
     ]
    },
    {
     "data": {
      "text/plain": [
       "65535"
      ]
     },
     "execution_count": 4,
     "metadata": {},
     "output_type": "execute_result"
    }
   ],
   "source": [
    "cyclotomic_coset_size_cnt = defaultdict(int)\n",
    "cyclotomic_cosets_by_size = defaultdict(list)\n",
    "for coset in cyclotomic_cosets:\n",
    "    cyclotomic_coset_size_cnt[len(coset)] += 1\n",
    "    cyclotomic_cosets_by_size[len(coset)].append(coset)\n",
    "\n",
    "sum_cnt = 0\n",
    "for k, v in sorted(cyclotomic_coset_size_cnt.items()):\n",
    "    sum_cnt += k * v\n",
    "    print(k, \":\", v)\n",
    "sum_cnt"
   ]
  },
  {
   "cell_type": "code",
   "execution_count": 5,
   "id": "80e2a242-c903-40d7-9145-59f5e308bb66",
   "metadata": {},
   "outputs": [],
   "source": [
    "threshold_by_size = {\n",
    "    1: 0,\n",
    "    2: 1,\n",
    "    4: 3,\n",
    "    8: 15,\n",
    "    16: 255,\n",
    "}"
   ]
  },
  {
   "cell_type": "markdown",
   "id": "9cd965fd-8ff3-49f6-a4a3-20be8a7a1b2d",
   "metadata": {},
   "source": [
    "# Field $GF(2^{16})$"
   ]
  },
  {
   "cell_type": "code",
   "execution_count": 6,
   "id": "1b1b53df-2d61-47a5-ac0f-ba9a62619b05",
   "metadata": {},
   "outputs": [],
   "source": [
    "# F.<a> = GF(2^16, modulus=\"primitive\")\n",
    "# F"
   ]
  },
  {
   "cell_type": "code",
   "execution_count": 7,
   "id": "d1737af9-4499-45b2-923d-54802b1b74c6",
   "metadata": {},
   "outputs": [
    {
     "data": {
      "text/plain": [
       "Finite Field in a of size 2^16"
      ]
     },
     "execution_count": 7,
     "metadata": {},
     "output_type": "execute_result"
    }
   ],
   "source": [
    "_F.<t> = GF(2)[]\n",
    "F.<a> = GF(2^16, modulus=(t^16 + t^5 + t^3 + t^2 + 1))\n",
    "F"
   ]
  },
  {
   "cell_type": "code",
   "execution_count": 8,
   "id": "bd8a1b04-02b5-4aef-bffc-ef797d983152",
   "metadata": {},
   "outputs": [
    {
     "name": "stdout",
     "output_type": "stream",
     "text": [
      "65535\n"
     ]
    }
   ],
   "source": [
    "for i in range(1, N + 1):\n",
    "    if a^i == 1:\n",
    "        print(i)"
   ]
  },
  {
   "cell_type": "code",
   "execution_count": 9,
   "id": "da6c5464-c45a-4aba-b8ac-4923a2bff245",
   "metadata": {},
   "outputs": [
    {
     "data": {
      "text/plain": [
       "Univariate Polynomial Ring in x over Finite Field in a of size 2^16"
      ]
     },
     "execution_count": 9,
     "metadata": {},
     "output_type": "execute_result"
    }
   ],
   "source": [
    "R.<x> = F[]\n",
    "R"
   ]
  },
  {
   "cell_type": "markdown",
   "id": "b5394e13-2331-4060-bf66-d1e47e477a26",
   "metadata": {},
   "source": [
    "# Reed-Solomon code over $GF(2^{16})$"
   ]
  },
  {
   "cell_type": "code",
   "execution_count": 10,
   "id": "96d8fb76-1561-4625-bff4-b392bb062009",
   "metadata": {},
   "outputs": [],
   "source": [
    "def generate_payload_data_vector_f(k):\n",
    "    payload_data_vector = [F.random_element() for _ in range(k)]\n",
    "    payload_data_vector = [e if e != 0 else a for e in payload_data_vector]\n",
    "    return payload_data_vector"
   ]
  },
  {
   "cell_type": "code",
   "execution_count": 11,
   "id": "df6ea7fd-1b5d-4795-97de-77cb1cd4247a",
   "metadata": {},
   "outputs": [],
   "source": [
    "def erase_symbols_f(code_vector, positions, t):\n",
    "    erased_symbols = sorted(random.sample(range(len(code_vector)), t))\n",
    "    assert len(set(erased_symbols)) == t\n",
    "    y = code_vector.copy()\n",
    "    erased_positions = []\n",
    "    for i in erased_symbols:\n",
    "        y[i] = 0\n",
    "        erased_positions.append(positions[i])\n",
    "    return y, erased_symbols, erased_positions"
   ]
  },
  {
   "cell_type": "markdown",
   "id": "cf6a2a9c-2def-4c04-be1c-663504ffb8fc",
   "metadata": {},
   "source": [
    "## Encoding"
   ]
  },
  {
   "cell_type": "markdown",
   "id": "5804cb46-9992-44e5-a15a-a8d665bfe8ef",
   "metadata": {},
   "source": [
    "### Step-by-step"
   ]
  },
  {
   "cell_type": "code",
   "execution_count": 12,
   "id": "fb7384d4-417b-413a-8e07-ffef99289396",
   "metadata": {},
   "outputs": [
    {
     "data": {
      "text/plain": [
       "[a^15 + a^13 + a^11 + a^7 + a^5 + a^3 + a^2 + a + 1,\n",
       " a^13 + a^12 + a^8 + a^5 + a^3 + a + 1,\n",
       " a^14 + a^13 + a^12 + a^11 + a^10 + a^9 + a^8 + a^7 + a^3 + a^2 + a + 1,\n",
       " a^14 + a^13 + a^12 + a^11 + a^10 + a^8 + a^4 + a^3 + a,\n",
       " a^14 + a^12 + a^11 + a^10 + a^5 + a^2 + 1,\n",
       " a^13 + a^10 + a^9 + a^6 + a^5 + a^4 + a^2 + a + 1,\n",
       " a^15 + a^14 + a^12 + a^6 + a^5 + a^3,\n",
       " a^14 + a^13 + a^7 + a^4 + a^3 + 1,\n",
       " a^15 + a^14 + a^13 + a^12 + a^9 + a^8 + a^7 + a^5 + a,\n",
       " a^15 + a^13 + a^12 + a^10 + a^9 + a^8 + a^7 + a^6 + a^3 + a^2 + a]"
      ]
     },
     "execution_count": 12,
     "metadata": {},
     "output_type": "execute_result"
    }
   ],
   "source": [
    "k = 100\n",
    "r = 43\n",
    "payload_data_vector = generate_payload_data_vector_f(k)\n",
    "\n",
    "payload_data_vector[:10]"
   ]
  },
  {
   "cell_type": "code",
   "execution_count": 13,
   "id": "c74d09e1-03c5-4a4c-80ba-0cf60054df5d",
   "metadata": {},
   "outputs": [
    {
     "data": {
      "text/plain": [
       "([2313, 4626, 9252, 18504, 37008, 8481, 16962, 33924, 2827, 5654],\n",
       " [257, 514, 1028, 2056, 4112, 8224, 16448, 32896, 771, 1542])"
      ]
     },
     "execution_count": 13,
     "metadata": {},
     "output_type": "execute_result"
    }
   ],
   "source": [
    "def get_positions_f(k, r):\n",
    "    assert k + r <= N\n",
    "    \n",
    "    inf_positions = []\n",
    "    par_positions = []\n",
    "    \n",
    "    local_threshold = {k: v for k, v in threshold_by_size.items()}\n",
    "    idx_by_size = defaultdict(int)\n",
    "    for size, cosets in sorted(cyclotomic_cosets_by_size.items(), reverse=True):\n",
    "        for coset in cosets:\n",
    "            if r <= threshold_by_size[size]:\n",
    "                break\n",
    "            r -= size\n",
    "            par_positions.extend(coset)\n",
    "            \n",
    "            idx_by_size[size] += 1\n",
    "    assert r == 0\n",
    "    \n",
    "    for i in range(4):\n",
    "        for idx in range(i + 1, 5):\n",
    "            local_threshold[1 << idx] -= idx_by_size[1 << i] << i\n",
    "    \n",
    "    # inf_positions = [i for i in range(N) if not used_positions[i]][:k]\n",
    "\n",
    "    for size, cosets in sorted(cyclotomic_cosets_by_size.items(), reverse=True):\n",
    "        for coset in cosets[idx_by_size[size]:]:\n",
    "            if k <= local_threshold[size]:\n",
    "                break\n",
    "            inf_positions.extend(coset[:k])\n",
    "            k -= min(k, size)\n",
    "    assert k == 0\n",
    "    \n",
    "    # inf_positions.sort()\n",
    "    # par_positions.sort()\n",
    "    return inf_positions, par_positions\n",
    "\n",
    "inf_positions, par_positions = get_positions_f(k, r)\n",
    "inf_positions[:10], par_positions[:10]"
   ]
  },
  {
   "cell_type": "code",
   "execution_count": 14,
   "id": "80a19dd8-b97b-44f9-8831-edec1ab4cd7c",
   "metadata": {},
   "outputs": [
    {
     "data": {
      "text/plain": [
       "x^43 + x^41 + x^36 + x^34 + x^33 + x^32 + x^31 + x^29 + x^28 + x^26 + x^25 + x^24 + x^23 + x^22 + x^19 + x^17 + x^15 + x^14 + x^12 + x^10 + x^7 + x^4 + x^2 + 1"
      ]
     },
     "execution_count": 14,
     "metadata": {},
     "output_type": "execute_result"
    }
   ],
   "source": [
    "def get_check_symbol_locator_poly_f(par_positions):\n",
    "    check_symbol_locator_poly = 1\n",
    "    for par_pos in par_positions:\n",
    "        check_symbol_locator_poly *= 1 - (a^par_pos) * x\n",
    "    return check_symbol_locator_poly\n",
    "\n",
    "check_symbol_locator_poly = get_check_symbol_locator_poly_f(par_positions)\n",
    "check_symbol_locator_poly"
   ]
  },
  {
   "cell_type": "code",
   "execution_count": 15,
   "id": "e3c77d38-a0a5-4918-84ca-7792326b661f",
   "metadata": {},
   "outputs": [
    {
     "data": {
      "text/plain": [
       "[a^15 + a^14 + a^13 + a^11 + a^10 + a^9 + a^8 + a^7 + a^6 + a^3 + a^2,\n",
       " a^14 + a^13 + a^12 + a^11 + a^10 + a^4 + a^3 + a^2,\n",
       " a^14 + a^8 + a^7 + a^4 + a^3 + a,\n",
       " a^15 + a^12 + a^8 + a^5 + a^4 + a + 1,\n",
       " a^14 + a^13 + a^11 + a^8 + a^5 + a^4 + a^2 + a + 1,\n",
       " a^14 + a^13 + a^11 + a^9 + a^5 + a,\n",
       " a^14 + a^13 + a^11 + a^9 + a^8 + a^7 + a^5 + a^3 + a,\n",
       " a^13 + a^11 + a^9 + a^8 + a^7 + a^6 + a^2 + a + 1,\n",
       " a^15 + a^13 + a^11 + a^10 + a^9 + a^8 + a^7 + a^6 + a^4 + a^3 + a^2 + a,\n",
       " a^15 + a^13 + a^11 + a^10 + a^8 + a^6 + a]"
      ]
     },
     "execution_count": 15,
     "metadata": {},
     "output_type": "execute_result"
    }
   ],
   "source": [
    "def get_forney_coefficients_f(check_symbol_locator_poly, par_positions):\n",
    "    check_symbol_locator_poly_derivative = derivative(check_symbol_locator_poly)\n",
    "    forney_coefficients = [(a^par_pos) / check_symbol_locator_poly_derivative(a^(-par_pos)) for par_pos in par_positions]\n",
    "    return forney_coefficients\n",
    "    \n",
    "forney_coefficients = get_forney_coefficients_f(check_symbol_locator_poly, par_positions)\n",
    "forney_coefficients[:10]"
   ]
  },
  {
   "cell_type": "code",
   "execution_count": 16,
   "id": "3514f429-a6ae-41d8-8caa-a6ff685ed93e",
   "metadata": {},
   "outputs": [
    {
     "data": {
      "text/plain": [
       "(a^14 + a^13 + a^7 + a^4 + a^3 + a^2 + a)*x^42 + (a^14 + a^13 + a^11 + a^10 + a^8 + a^7 + a^5 + a^4 + a^3 + a^2 + a)*x^41 + (a^15 + a^14 + a^12 + a^8 + a^6 + a^3 + 1)*x^40 + (a^15 + a^13 + a^12 + a^10 + a^8 + a^7 + a^4 + a^3 + a^2)*x^39 + (a^14 + a^13 + a^12 + a^11 + a^8 + a^7 + a^6 + a^4 + a^3 + a)*x^38 + (a^15 + a^13 + a^10 + a^8 + a^7)*x^37 + (a^15 + a^14 + a^11 + a^10 + a^6)*x^36 + (a^14 + a^12 + a^11 + a^9 + a^7 + a^6 + a^5)*x^35 + (a^14 + a^10 + a^9 + a^6 + a^5 + a^4 + a + 1)*x^34 + (a^15 + a^14 + a^12 + a^11 + a^9 + a^4 + a^2 + a)*x^33 + (a^14 + a^13 + a^12 + a^11 + a^8 + a^4 + 1)*x^32 + (a^11 + a^8 + a^7 + a^6 + a^3 + a^2)*x^31 + (a^15 + a^14 + a^13 + a^12 + a^11 + a^10 + a^9 + a^5 + 1)*x^30 + (a^12 + a^8 + a^7 + a^6 + a^5 + a^4 + a^3 + a + 1)*x^29 + (a^15 + a^13 + a^12 + a^8 + a^7 + a^6 + a^5 + a^4 + a^2 + a + 1)*x^28 + (a^10 + a^8 + a^7 + a^5 + a)*x^27 + (a^14 + a^11 + a^8 + a^4 + a^3)*x^26 + (a^15 + a^14 + a^12 + a^10 + a^7 + a^6 + a^5 + a^3 + 1)*x^25 + (a^15 + a^13 + a^12 + a^10 + a^6 + a^4 + a^3 + a + 1)*x^24 + (a^12 + a^11 + a^9 + a^7 + a^5 + a^3 + a + 1)*x^23 + (a^14 + a^13 + a^12 + a^10 + a^9 + a^6 + a^5 + a^4 + a^3 + a^2 + 1)*x^22 + (a^14 + a^11 + a^9 + a^8 + a^7 + a^6 + a^4 + a)*x^21 + (a^12 + a^10 + a^9 + a^7 + a^3 + a^2 + 1)*x^20 + (a^15 + a^14 + a^13 + a^12 + a^6 + a^5 + a^4 + a)*x^19 + (a^13 + a^12 + a^10 + a^8 + a^6 + a^3 + a + 1)*x^18 + (a^15 + a^11 + a^10 + a^9 + a^8 + a^6 + a^5 + a^2 + a + 1)*x^17 + (a^13 + a^12 + a^11 + a^10 + a^4 + a^3 + a + 1)*x^16 + (a^15 + a^14 + a^8 + a^7 + a^5 + a^4 + a^2 + 1)*x^15 + (a^15 + a^13 + a^12 + a^11 + a^8 + a^3 + a + 1)*x^14 + (a^13 + a^12 + a^11 + a^9 + a^8 + a^7 + a^3 + a)*x^13 + (a^15 + a^13 + a^11 + a^9 + a^4 + a^3 + a^2 + a)*x^12 + (a^14 + a^12 + a^8 + a^7 + a^6 + a^5 + a^4 + a^3 + a)*x^11 + (a^13 + a^10 + a^8 + a^7 + a^5 + a^4)*x^10 + (a^15 + a^14 + a^11 + a^10 + a^8 + a^7 + a^5 + a^4 + a^2)*x^9 + (a^12 + a^10 + a^8 + a^6 + a^3 + a^2 + 1)*x^8 + (a^15 + a^14 + a^13 + a^8 + a^6 + a^5 + a^4 + a^3 + a^2 + a)*x^7 + (a^14 + a^9 + a^8 + a^6 + a^5 + a^3 + 1)*x^6 + (a^13 + a^12 + a^9 + a^8 + a^7 + a^4 + 1)*x^5 + (a^15 + a^14 + a^9 + a^8 + a^7 + a^4 + a + 1)*x^4 + (a^14 + a^13 + a^12 + a^11 + a^9 + a^6 + a^3 + a + 1)*x^3 + (a^13 + a^12 + a^11 + a^10 + a^9 + a^5 + a^4 + a)*x^2 + (a^15 + a^14 + a^9 + a^6 + a^4 + 1)*x + a^14 + a^12 + a^9 + a^8 + a^6 + a^5 + a + 1"
      ]
     },
     "execution_count": 16,
     "metadata": {},
     "output_type": "execute_result"
    }
   ],
   "source": [
    "def get_payload_data_vector_syndrome_poly_f(payload_data_vector, inf_positions, r, verbose=False):\n",
    "    k = len(payload_data_vector)\n",
    "    payload_data_vector_syndrome_poly = 0\n",
    "    for j in range(r):\n",
    "        if verbose:\n",
    "            print(\">> j = \", j)\n",
    "        \n",
    "        s_j = 0\n",
    "        for i in range(k):\n",
    "            if verbose:\n",
    "                print(\">> s_j +=\", (payload_data_vector[i] * (a^(inf_positions[i] * j))).to_integer(), end=\" \")\n",
    "            \n",
    "            s_j += payload_data_vector[i] * (a^(inf_positions[i] * j))\n",
    "            \n",
    "            if verbose:\n",
    "                print(\"|\", \"s_j =\", s_j.to_integer())\n",
    "        \n",
    "        payload_data_vector_syndrome_poly += s_j * (x^j)\n",
    "        \n",
    "    return payload_data_vector_syndrome_poly\n",
    "    \n",
    "payload_data_vector_syndrome_poly = get_payload_data_vector_syndrome_poly_f(payload_data_vector, inf_positions, r)\n",
    "payload_data_vector_syndrome_poly"
   ]
  },
  {
   "cell_type": "code",
   "execution_count": 17,
   "id": "6e02a611-aa07-4bdf-ac24-8dd85dc44980",
   "metadata": {},
   "outputs": [
    {
     "data": {
      "text/plain": [
       "(a^15 + a^13 + a^3)*x^42 + (a^15 + a^14 + a^13 + a^12 + a^10 + a^9 + a^8 + a^7 + a^6 + a^4 + a^3 + a + 1)*x^41 + (a^15 + a^8 + a^7 + a^3 + a + 1)*x^40 + (a^14 + a^12 + a^11 + a^10 + a^8 + a^6 + a^5 + a^4 + a^2)*x^39 + (a^14 + a^10 + a^9 + a^7 + a^3)*x^38 + (a^13 + a^11 + a^10 + a^9 + a^6 + a^4 + a^2)*x^37 + (a^12 + a^9 + a^7 + a^6 + a^4 + a^3 + a^2 + a)*x^36 + (a^14 + a^13 + a^11 + a^10 + a^8 + a^6 + a^2 + a)*x^35 + (a^11 + a^10 + a^8 + a^7 + a^6 + a^5 + a^4 + a^2)*x^34 + (a^15 + a^11 + a^7 + a^5 + a^2 + a)*x^33 + (a^15 + a^13 + a^12 + a^10 + a^8 + a^6 + a^5 + a^4 + a^3 + 1)*x^32 + (a^15 + a^14 + a^13 + a^11 + a^10 + a^6 + a^5 + a)*x^31 + (a^12 + a^9 + a^8 + a^6 + a^2 + a)*x^30 + (a^15 + a^10 + a^9 + a^8 + a^7 + a^5 + a^2)*x^29 + (a^15 + a^13 + a^12 + a^10 + a^7 + a^3)*x^28 + (a^14 + a^10 + a^7 + a^6 + a^5 + a^4 + a^3 + a^2)*x^27 + (a^13 + a^12 + a^11 + a^10 + a^9 + a^8 + a^7 + a^5 + a^3 + a)*x^26 + (a^15 + a^13 + a^12 + a^11 + a^10 + a^8 + a^7 + a^6 + 1)*x^25 + (a^15 + a^14 + a^12 + a^11 + a^10 + a^8 + a^5 + a^4 + a)*x^24 + (a^13 + a^12 + a^11 + a^10 + a^9 + a^6 + a^4 + 1)*x^23 + (a^15 + a^14 + a^13 + a^12 + a^10 + a^8 + a^5 + a^3 + a)*x^22 + (a^14 + a^11 + a^10 + a^9 + a^5 + a^4 + a^2)*x^21 + (a^15 + a^14 + a^12 + a^11 + a^10 + a^6 + a^3)*x^20 + (a^15 + a^13 + a^10 + a^8 + a^5 + a^2 + a + 1)*x^19 + (a^15 + a^14 + a^11 + a^10 + a^3 + a^2)*x^18 + (a^15 + a^12 + a^10 + a^8 + a^4 + a^3 + a^2 + 1)*x^17 + (a^15 + a^12 + a^11 + a^10 + a^9 + a^5 + a + 1)*x^16 + (a^14 + a^13 + a^10 + a^9 + a^6 + a^5)*x^15 + (a^14 + a^13 + a^12 + a^11 + a^8 + a^4 + a^3 + 1)*x^14 + (a^14 + a^12 + a^11 + a^10 + a^7 + a^5 + a^4 + a^2 + a + 1)*x^13 + (a^15 + a^14 + a^10 + a^5 + a + 1)*x^12 + (a^14 + a^13 + a^12 + a^11 + a^10 + a^7 + a^6 + a^5 + a^4 + a)*x^11 + (a^14 + a^12 + a^11 + a^9 + a^7 + a^5 + a^4 + a^3 + a^2)*x^10 + (a^13 + a^8 + a^6 + a^5 + a^3 + 1)*x^9 + (a^14 + a^12 + a^10 + a^9 + a^8 + a^7 + a^6 + a^5 + a^2 + a)*x^8 + (a^15 + a^14 + a^13 + a^12 + a^11 + a^9 + a^8 + a^7 + a^6 + a^2 + a + 1)*x^7 + (a^15 + a^13 + a^12 + a^11 + a^10 + a^9 + a^7 + a^6 + a^3)*x^6 + (a^15 + a^11 + a^9 + a^8 + a^7 + a^3 + a + 1)*x^5 + (a^15 + a^13 + a^11 + a^10 + a^9 + a^7 + a^6 + a)*x^4 + (a^15 + a^13 + a^12 + a^11 + a^4 + a^3 + a)*x^3 + (a^14 + a^13 + a^11 + a^10 + a^8 + a^6 + a^4 + 1)*x^2 + (a^15 + a^14 + a^9 + a^6 + a^4 + 1)*x + a^14 + a^12 + a^9 + a^8 + a^6 + a^5 + a + 1"
      ]
     },
     "execution_count": 17,
     "metadata": {},
     "output_type": "execute_result"
    }
   ],
   "source": [
    "def get_check_symbol_evaluator_poly_f(check_symbol_locator_poly, payload_data_vector_syndrome_poly, r):\n",
    "    check_symbol_evaluator_poly = (check_symbol_locator_poly * payload_data_vector_syndrome_poly) % (x^r)\n",
    "    return check_symbol_evaluator_poly\n",
    "\n",
    "check_symbol_evaluator_poly = get_check_symbol_evaluator_poly_f(check_symbol_locator_poly, payload_data_vector_syndrome_poly, r)\n",
    "check_symbol_evaluator_poly"
   ]
  },
  {
   "cell_type": "code",
   "execution_count": 18,
   "id": "88d2fed4-fa2f-4c27-b094-8667c4558f80",
   "metadata": {},
   "outputs": [
    {
     "data": {
      "text/plain": [
       "[a^13 + a^12 + a^11 + a^7 + a^5 + a^4 + a^3 + a,\n",
       " a^15 + a^13 + a^12 + a^11 + a^10 + a^8 + a^7 + a^4 + a^3 + 1,\n",
       " a^14 + a^13 + a^12 + a^11 + a^10 + a^9 + a^7 + a^6 + a^3 + a^2 + 1,\n",
       " a^15 + a^13 + a^12 + a^11 + a^10 + a^9 + a^6 + a^4 + a,\n",
       " a^15 + a^14 + a^11 + a^9 + a^5 + a^4 + a^2,\n",
       " a^15 + a^13 + a^12 + a^11 + a^10 + a^8 + a^6 + a^5 + 1,\n",
       " a^15 + a^14 + a^12 + a^11 + a^10 + a^9 + a^7 + a^5 + 1,\n",
       " a^15 + a^13 + a^12 + a^8 + a^7 + a^6 + a^2 + a + 1,\n",
       " a^13 + a^12 + a^9 + a^8 + a^6 + a^5 + a^4 + a + 1,\n",
       " a^15 + a^14 + a^10 + a^5 + a^4]"
      ]
     },
     "execution_count": 18,
     "metadata": {},
     "output_type": "execute_result"
    }
   ],
   "source": [
    "def get_check_symbols_f(forney_coefficients, check_symbol_evaluator_poly, par_positions):\n",
    "    r = len(par_positions)\n",
    "    check_symbols = [forney_coefficients[i] * check_symbol_evaluator_poly(a^(-par_positions[i])) for i in range(r)]\n",
    "    return check_symbols\n",
    "\n",
    "check_symbols = get_check_symbols_f(forney_coefficients, check_symbol_evaluator_poly, par_positions)\n",
    "check_symbols[:10]"
   ]
  },
  {
   "cell_type": "code",
   "execution_count": 19,
   "id": "e8e3ab49-8203-446c-bd34-0736f251a060",
   "metadata": {},
   "outputs": [
    {
     "name": "stdout",
     "output_type": "stream",
     "text": [
      "[a^15 + a^13 + a^11 + a^7 + a^5 + a^3 + a^2 + a + 1, a^13 + a^12 + a^8 + a^5 + a^3 + a + 1, a^14 + a^13 + a^12 + a^11 + a^10 + a^9 + a^8 + a^7 + a^3 + a^2 + a + 1, a^14 + a^13 + a^12 + a^11 + a^10 + a^8 + a^4 + a^3 + a, a^14 + a^12 + a^11 + a^10 + a^5 + a^2 + 1, a^13 + a^10 + a^9 + a^6 + a^5 + a^4 + a^2 + a + 1, a^15 + a^14 + a^12 + a^6 + a^5 + a^3, a^14 + a^13 + a^7 + a^4 + a^3 + 1, a^15 + a^14 + a^13 + a^12 + a^9 + a^8 + a^7 + a^5 + a, a^15 + a^13 + a^12 + a^10 + a^9 + a^8 + a^7 + a^6 + a^3 + a^2 + a] ... [a^13 + a^12 + a^11 + a^7 + a^5 + a^4 + a^3 + a, a^15 + a^13 + a^12 + a^11 + a^10 + a^8 + a^7 + a^4 + a^3 + 1, a^14 + a^13 + a^12 + a^11 + a^10 + a^9 + a^7 + a^6 + a^3 + a^2 + 1, a^15 + a^13 + a^12 + a^11 + a^10 + a^9 + a^6 + a^4 + a, a^15 + a^14 + a^11 + a^9 + a^5 + a^4 + a^2, a^15 + a^13 + a^12 + a^11 + a^10 + a^8 + a^6 + a^5 + 1, a^15 + a^14 + a^12 + a^11 + a^10 + a^9 + a^7 + a^5 + 1, a^15 + a^13 + a^12 + a^8 + a^7 + a^6 + a^2 + a + 1, a^13 + a^12 + a^9 + a^8 + a^6 + a^5 + a^4 + a + 1, a^15 + a^14 + a^10 + a^5 + a^4] ...\n"
     ]
    }
   ],
   "source": [
    "def get_code_vector_f(payload_data_vector, check_symbols):\n",
    "    code_vector = payload_data_vector + check_symbols\n",
    "    return code_vector\n",
    "\n",
    "code_vector = get_code_vector_f(payload_data_vector, check_symbols)\n",
    "positions = inf_positions + par_positions\n",
    "print(code_vector[:10], \"...\", code_vector[k:k+10], \"...\")"
   ]
  },
  {
   "cell_type": "markdown",
   "id": "4d2c3fbf-51cc-48d0-9bef-7acd8a59c0a1",
   "metadata": {},
   "source": [
    "### Encoding function"
   ]
  },
  {
   "cell_type": "code",
   "execution_count": 20,
   "id": "ab9908d0-94ba-48eb-9fb4-ccdf1a920443",
   "metadata": {},
   "outputs": [],
   "source": [
    "def encode_f(payload_data_vector, r, verbose=False):\n",
    "    k = len(payload_data_vector)\n",
    "    inf_positions, par_positions = get_positions_f(k, r)\n",
    "    positions = inf_positions + par_positions\n",
    "    \n",
    "    check_symbol_locator_poly = get_check_symbol_locator_poly_f(par_positions)\n",
    "    forney_coefficients = get_forney_coefficients_f(check_symbol_locator_poly, par_positions)\n",
    "    payload_data_vector_syndrome_poly = get_payload_data_vector_syndrome_poly_f(payload_data_vector, inf_positions, r, verbose=verbose)\n",
    "    check_symbol_evaluator_poly = get_check_symbol_evaluator_poly_f(check_symbol_locator_poly, payload_data_vector_syndrome_poly, r)\n",
    "    \n",
    "    check_symbols = get_check_symbols_f(forney_coefficients, check_symbol_evaluator_poly, par_positions)\n",
    "    code_vector = get_code_vector_f(payload_data_vector, check_symbols)\n",
    "    \n",
    "    if verbose:\n",
    "        def p_to_l(p):\n",
    "            return [c.to_integer() for c in p.coefficients(sparse=False)]\n",
    "        \n",
    "        print(\"> payload_data_vector:\", [c.to_integer() for c in payload_data_vector])\n",
    "        print(\"> inf_positions:\", inf_positions)\n",
    "        print(\"> par_positions:\", par_positions)\n",
    "        print(\"> check_symbol_locator_poly:\", p_to_l(check_symbol_locator_poly))\n",
    "        print(\"> forney_coefficients:\", [c.to_integer() for c in forney_coefficients])\n",
    "        print(\"> payload_data_vector_syndrome_poly:\", p_to_l(payload_data_vector_syndrome_poly))\n",
    "        print(\"> check_symbol_evaluator_poly:\", p_to_l(check_symbol_evaluator_poly))\n",
    "        print(\"> check_symbols:\", [c.to_integer() for c in check_symbols])\n",
    "    \n",
    "    return code_vector, positions"
   ]
  },
  {
   "cell_type": "markdown",
   "id": "43c0201a-9f0c-4b2a-88f2-111b28dc19e0",
   "metadata": {},
   "source": [
    "## Erasure correction"
   ]
  },
  {
   "cell_type": "markdown",
   "id": "2231afb5-65e2-4fbd-a802-e4dcf5402767",
   "metadata": {},
   "source": [
    "### Step-by-step"
   ]
  },
  {
   "cell_type": "code",
   "execution_count": 21,
   "id": "33d21345-da6a-4ddb-b407-fe7d783c4856",
   "metadata": {
    "tags": []
   },
   "outputs": [
    {
     "data": {
      "text/plain": [
       "([0,\n",
       "  a^13 + a^12 + a^8 + a^5 + a^3 + a + 1,\n",
       "  a^14 + a^13 + a^12 + a^11 + a^10 + a^9 + a^8 + a^7 + a^3 + a^2 + a + 1,\n",
       "  0,\n",
       "  a^14 + a^12 + a^11 + a^10 + a^5 + a^2 + 1,\n",
       "  0,\n",
       "  a^15 + a^14 + a^12 + a^6 + a^5 + a^3,\n",
       "  a^14 + a^13 + a^7 + a^4 + a^3 + 1,\n",
       "  0,\n",
       "  a^15 + a^13 + a^12 + a^10 + a^9 + a^8 + a^7 + a^6 + a^3 + a^2 + a],\n",
       " [0, 3, 5, 8, 17, 19, 20, 24, 27, 29],\n",
       " [2313, 18504, 8481, 2827, 6682, 26728, 53456, 3855, 30840, 57825])"
      ]
     },
     "execution_count": 21,
     "metadata": {},
     "output_type": "execute_result"
    }
   ],
   "source": [
    "t = 43\n",
    "y, erased_symbols, erased_positions = erase_symbols_f(code_vector, positions, t)\n",
    "\n",
    "y[:10], erased_symbols[:10], erased_positions[:10]"
   ]
  },
  {
   "cell_type": "code",
   "execution_count": 22,
   "id": "6e6e4be3-7416-4db7-9a8b-9af60f4be690",
   "metadata": {},
   "outputs": [
    {
     "data": {
      "text/plain": [
       "(a^14 + a^12 + a^11 + a^9 + a^8 + a^7 + a^6 + a^5 + a^4 + a^2 + a + 1)*x^42 + (a^15 + a^14 + a^13 + a^11 + a^10 + a^5 + a^4 + a^3 + a^2 + a)*x^41 + (a^12 + a^9 + a^8 + a^7 + a^5 + a^4 + a^3 + a^2)*x^40 + (a^15 + a^14 + a^13 + a^12 + a^11 + a^9 + a^8 + a^7 + a^6 + a^5 + a^2 + 1)*x^39 + (a^13 + a^12 + a^10 + a^7 + a^4 + a)*x^38 + (a^15 + a^13 + a^11 + a^10 + a^9 + a^6 + a^4 + a^2 + a)*x^37 + (a^15 + a^14 + a^13 + a^11 + a^7 + a^6 + a^5 + a^4 + a^3)*x^36 + (a^15 + a^14 + a^11 + a^5 + a^4 + a^3 + a + 1)*x^35 + (a^14 + a^11 + a^10 + a^8 + a^5 + a^4 + a^3 + a^2)*x^34 + (a^14 + a^13 + a^10 + a^9 + a^8 + a^6 + a^3 + 1)*x^33 + (a^15 + a^14 + a^12 + a^11 + a^10 + a^7 + a^6 + a^5 + a^4 + a^3 + 1)*x^32 + (a^15 + a^14 + a^11 + a^8 + a^7 + a^6 + a^5 + a + 1)*x^31 + (a^15 + a^14 + a^10 + a^8 + a^7 + a^5 + a^4 + a^3 + 1)*x^30 + (a^14 + a^13 + a^10 + a^9 + a^8 + a^7 + a^6 + a^5 + a^4 + a^3)*x^29 + (a^13 + a^12 + a^11 + a^9 + a^8 + a^7 + a^6 + a^5 + a^4 + a^3 + a + 1)*x^28 + (a^13 + a^11 + a^10 + a^9 + a^7 + a^5 + a^4 + a^3 + a^2)*x^27 + (a^14 + a^13 + a^12 + a^11 + a^7 + a^4 + a)*x^26 + (a^12 + a^10 + a^7 + a^6 + a^5 + a^4 + a)*x^25 + (a^14 + a^11 + a^10 + a^4 + a^3 + a^2)*x^24 + (a^15 + a^14 + a^13 + a^11 + a^10 + a^6 + a^5 + a^4 + a^2 + 1)*x^23 + (a^7 + a^6 + a^5 + a^3 + a)*x^22 + (a^15 + a^13 + a^12 + a^9 + a^8 + a^7 + a^5 + a^4 + a^2 + a + 1)*x^21 + (a^15 + a^14 + a^12 + a^10 + a^9 + a^7 + a^4 + a)*x^20 + (a^15 + a^13 + a^12 + a^9 + a^6 + a^4 + 1)*x^19 + (a^15 + a^12 + a^10 + a^9 + a^7 + a^6 + a^4 + a + 1)*x^18 + (a^15 + a^14 + a^11 + a^10 + a^7 + a^6 + a^4 + a^2 + a)*x^17 + (a^15 + a^14 + a^13 + a^11 + a^10 + a^9 + a^8 + a^7 + a^2 + a)*x^16 + (a^10 + a^7 + a^6 + a^4 + a + 1)*x^15 + (a^14 + a^11 + a^10 + a^9 + a^8 + a^7 + a^5 + a^4 + a^2 + a)*x^14 + (a^15 + a^14 + a^13 + a^12 + a^9 + a^7 + a^6 + a^3 + 1)*x^13 + (a^12 + a^8 + a^7 + a^2 + a + 1)*x^12 + (a^15 + a^14 + a^13 + a^12 + a^10 + a^5 + a^2 + a)*x^11 + (a^15 + a^13 + a^12 + a^11 + a^10 + a^4 + a + 1)*x^10 + (a^9 + a^2)*x^9 + (a^13 + a^10 + a^8 + a^6 + a^3 + a^2 + 1)*x^8 + (a^15 + a^14 + a^12 + a^10 + a^8 + a^7 + a^6 + 1)*x^7 + (a^15 + a^14 + a^13 + a^12 + a^11 + a^10 + a^3 + a)*x^6 + (a^15 + a^14 + a^11 + a^10 + a^9 + a^7 + a^6 + a^5 + a^4 + a)*x^5 + (a^13 + a^10 + a^7 + a^5 + a^3 + a^2 + a)*x^4 + (a^15 + a^12 + a^9 + a^8 + a^7 + a^6)*x^3 + (a^14 + a^11 + a^8 + a^5 + a^4 + a^3 + a^2 + a)*x^2 + (a^15 + a^13 + a^12 + a^9 + a^7 + a^4 + a^2 + 1)*x + a^8 + a^7 + a^4 + a"
      ]
     },
     "execution_count": 22,
     "metadata": {},
     "output_type": "execute_result"
    }
   ],
   "source": [
    "def get_syndrome_poly_f(y, positions, t):\n",
    "    n = len(positions)\n",
    "    syndrome_poly = 0\n",
    "    for i in range(t):\n",
    "        s_i = sum(y[j] * (a^(positions[j] * i)) for j in range(n))\n",
    "        syndrome_poly += s_i * (x^i)\n",
    "    return syndrome_poly\n",
    "\n",
    "syndrome_poly = get_syndrome_poly_f(y, positions, t)\n",
    "syndrome_poly"
   ]
  },
  {
   "cell_type": "code",
   "execution_count": 23,
   "id": "3369de53-7557-4b15-97c4-6a79d0483367",
   "metadata": {},
   "outputs": [
    {
     "data": {
      "text/plain": [
       "(a^15 + a^12 + a^9 + a^6 + a^4 + a^3 + 1)*x^43 + (a^15 + a^13 + a^12 + a^11 + a^9 + a^8 + a^6 + a^5 + a^4 + a^3 + a^2 + 1)*x^42 + (a^15 + a^13 + a^12 + a^11 + a^9 + a^8 + a^6 + a^5 + a^4 + a^3 + a^2 + 1)*x^41 + (a^14 + a^13 + a^11 + a^9 + a^8 + a^7 + a^5 + a^3 + a)*x^40 + (a^14 + a^12 + a^10 + a^7 + a^6 + a^3 + a^2 + a + 1)*x^39 + (a^8 + a^7 + a^3 + 1)*x^38 + (a^12 + a^10 + a^9 + a^8 + a^7 + a^6 + a^3)*x^37 + (a^15 + a^14 + a^10 + a^8 + a^7 + a^6 + a^5 + a^4 + a^3 + a^2)*x^36 + (a^14 + a^9 + a^8 + a^6 + a^5 + a^4 + a^3)*x^35 + (a^15 + a^14 + a^12 + a^7 + a^6 + a^4 + a^2 + a)*x^34 + (a^14 + a^13 + a^11 + a^8 + a^6 + a^3 + 1)*x^33 + (a^14 + a^4 + a + 1)*x^32 + (a^12 + a^10 + a^9 + a^5 + a^4 + a^3 + a^2 + a + 1)*x^31 + (a^15 + a^14 + a^13 + a^12 + a^11 + a^9 + a^7 + a^6 + a^5 + a^2 + a)*x^30 + (a^15 + a^14 + a^13 + a^12 + a^11 + a^9 + a^7 + a^4 + a^3)*x^29 + (a^15 + a^14 + a^10 + a^9 + a^7 + a^4 + a^2 + a)*x^28 + (a^15 + a^14 + a^12 + a^8 + a^6 + a^4 + a^3 + a^2 + a + 1)*x^27 + (a^15 + a^12 + a^7 + a^6 + a^2)*x^26 + (a^15 + a^14 + a^10 + a^8 + a^7 + a^6 + a^5 + a^4 + a^3 + a^2)*x^25 + (a^15 + a^13 + a^12 + a^11 + a^8 + a^7 + a^6 + a^5 + 1)*x^24 + (a^15 + a^14 + a^13 + a^11 + a^10 + a^8 + a^6 + a^4 + 1)*x^23 + (a^15 + a^12 + a^9 + a^5 + a^2 + a + 1)*x^22 + x^21 + (a^15 + a^14 + a^13 + a^11 + a^10 + a^8 + a^6 + a^4)*x^20 + (a^15 + a^14 + a^13 + a^12 + a^11 + a^9 + a^7 + a^4 + a^3)*x^19 + (a^15 + a^10 + a^9 + a^7 + a^6 + a^5 + a^4 + a^3 + a + 1)*x^18 + (a^9 + a^7 + a^4 + a^3 + a^2)*x^17 + (a^14 + a^8 + a^7 + a^6 + a^5 + a^2)*x^16 + (a^12 + a^10 + a^9 + a^8 + a^7 + a^5 + a^4 + a^2 + a + 1)*x^15 + (a^9 + a^7 + a^4 + a^3 + a^2)*x^14 + (a^15 + a^13 + a^12 + a^11 + a^8 + a^7 + a^4 + a^3 + a^2 + a)*x^13 + (a^13 + a^12 + a^11 + a^10 + a^8 + a^7 + a^6 + a^5 + a^4 + a^3)*x^12 + (a^14 + a^12 + a^10 + a^9 + a^8 + a^7 + a^6 + a^4 + a^3 + a + 1)*x^11 + (a^14 + a^13 + a^12 + a^11 + a^10 + a^4 + a^3 + a^2)*x^10 + (a^14 + a^12 + a^10 + a^8 + a^6 + a^2 + a + 1)*x^9 + (a^15 + a^13 + a^12 + a^11 + a^8 + a^7 + a^4 + a^3 + a^2 + a + 1)*x^8 + (a^14 + a^13 + a^12 + a^11 + a^10 + a^9 + a^7 + 1)*x^7 + (a^14 + a^13 + a^12 + a^11 + a^10 + a^9 + a^8 + a^3)*x^6 + (a^12 + a^10 + a^7 + a^6 + a^4 + a^3 + a^2)*x^5 + (a^15 + a^13 + a^12 + a^11 + a^8 + a^7 + a^6 + a^5)*x^4 + (a^15 + a^13 + a^12 + a^11 + a^9 + a^8 + a^6 + a^5 + a^4 + a^3 + a^2)*x^3 + (a^13 + a^12 + a^11 + a^10 + a^3 + a^2 + a)*x^2 + (a^14 + a^12 + a^10 + a^9 + a^5 + a^3 + a^2 + 1)*x + 1"
      ]
     },
     "execution_count": 23,
     "metadata": {},
     "output_type": "execute_result"
    }
   ],
   "source": [
    "def get_erasure_locator_poly_f(erased_positions):\n",
    "    erasure_locator_poly = 1\n",
    "    for erased_pos in erased_positions:\n",
    "        erasure_locator_poly *= 1 - (a^erased_pos) * x\n",
    "    return erasure_locator_poly\n",
    "\n",
    "erasure_locator_poly = get_erasure_locator_poly_f(erased_positions)\n",
    "erasure_locator_poly"
   ]
  },
  {
   "cell_type": "code",
   "execution_count": 24,
   "id": "b6b6fc27-bc04-4666-b6c9-dbe0de0c35af",
   "metadata": {},
   "outputs": [
    {
     "data": {
      "text/plain": [
       "(a^15 + a^13 + a^9 + a^8 + a^7 + a^4 + a^3 + 1)*x^42 + (a^11 + a^9 + a^5 + a^4 + a^3 + a^2)*x^41 + (a^14 + a^13 + a^12 + a^10 + a^9 + a^7 + a^2)*x^40 + (a^13 + a^12 + a^11 + a^9 + a^8 + a^7 + a^6 + a^2 + a + 1)*x^39 + (a^15 + a^13 + a^12 + a^10 + a^6 + a^4 + a^3 + 1)*x^38 + (a^12 + a^11 + a^8 + a^5 + a^4 + a^3 + 1)*x^37 + (a^11 + a^10 + a^9 + a + 1)*x^36 + (a^15 + a^14 + a^11 + a^9 + a^7 + a^6 + 1)*x^35 + (a^12 + a^11 + a^9 + a^7 + a^6 + a^5 + a^4 + a^3 + a^2 + 1)*x^34 + (a^10 + a^8 + a^6 + a^5 + a + 1)*x^33 + (a^15 + a^13 + a^12 + a^11 + a^10 + a^9 + a^6 + a^3 + a + 1)*x^32 + (a^12 + a^11 + a^9 + a^6 + a^5 + a + 1)*x^31 + (a^13 + a^12 + a^11 + a^9 + a^7 + a^6 + a^3)*x^30 + (a^15 + a^14 + a^12 + a^11 + a^10 + a^8 + a^6 + a^5 + a^4 + a)*x^29 + (a^15 + a^14 + a^13 + a^10 + a^8 + a^7 + a^5 + a^3 + 1)*x^28 + (a^15 + a^14 + a^10 + a^9 + a^8 + a^7 + a^6 + a^5 + a^3 + a^2)*x^27 + (a^14 + a^13 + a^11 + a^10 + a^9 + a^6 + a^4 + a + 1)*x^26 + (a^14 + a^13 + a^10 + a^9 + a^8 + a^7 + a^4 + a)*x^25 + (a^11 + a^10 + a^7 + a^5 + a)*x^24 + (a^15 + a^11 + a^10 + a^6 + a^5 + a^3 + a^2 + a)*x^23 + (a^15 + a^12 + a^10 + a^9 + a^8 + a^6 + a^5 + a^4 + a)*x^22 + (a^15 + a^12 + a^10 + a^4 + a^2 + 1)*x^21 + (a^15 + a^14 + a^13 + a^9 + a^8 + a^4 + a^3 + a^2 + a + 1)*x^20 + (a^14 + a^11 + a^10 + a^7 + a^6 + a^5 + a^4 + a^2)*x^19 + (a^5 + a^4 + a^3)*x^18 + (a^15 + a^14 + a^12 + a^10 + a^7 + a^6 + a^4 + a^2 + a)*x^17 + (a^15 + a^14 + a^13 + a^10 + a^9 + a^8 + a^5 + a^4 + a^3 + a^2 + 1)*x^16 + (a^15 + a^14 + a^13 + a^12 + a^11 + a^9 + a^7 + a^5 + a^2 + 1)*x^15 + (a^15 + a^13 + a^11 + a^9 + a^7 + a^5 + a^4 + a^2 + 1)*x^14 + (a^15 + a^14 + a^11 + a^10 + a^9 + a^8 + a^5 + a^2 + a)*x^13 + (a^14 + a^13 + a^12 + a^6 + a^4 + a + 1)*x^12 + (a^15 + a^11 + a^10 + a^9 + a^8 + a^5 + a^4 + a^2)*x^11 + (a^15 + a^14 + a^11 + a^9 + a^8 + a^6 + a^4 + a^2 + 1)*x^10 + (a^15 + a^12 + a^11 + a^10 + a^8 + a^2 + 1)*x^9 + (a^13 + a^12 + a^7 + a^6 + a^4 + a^3 + a^2 + a + 1)*x^8 + (a^14 + a^13 + a^9 + a^7 + a^6 + a^3 + a)*x^7 + (a^15 + a^14 + a^13 + a^11 + a^8 + a^7 + a^6 + a^3 + a^2)*x^6 + (a^14 + a^13 + a^11 + a^10 + a^8 + a^7 + a)*x^5 + (a^15 + a^13 + a^11 + a^10 + a^9 + a^8 + a^7 + a^6 + a^5 + a^4 + a^3 + a^2 + 1)*x^4 + (a^15 + a^13 + a^9 + a^8 + a^6 + a^5 + a^4 + a^3 + a^2 + a)*x^3 + (a^13 + a^12 + a^11 + a^10 + a^9 + a^5 + a^4 + a^2 + 1)*x^2 + (a^14 + a^11 + a^9 + a^7 + a^6 + a^2 + a + 1)*x + a^8 + a^7 + a^4 + a"
      ]
     },
     "execution_count": 24,
     "metadata": {},
     "output_type": "execute_result"
    }
   ],
   "source": [
    "def get_erasure_evaluator_poly_f(erasure_locator_poly, syndrome_poly, t):\n",
    "    erasure_evaluator_poly = (erasure_locator_poly * syndrome_poly) % (x^t)\n",
    "    return erasure_evaluator_poly\n",
    "\n",
    "erasure_evaluator_poly = get_erasure_evaluator_poly_f(erasure_locator_poly, syndrome_poly, t)\n",
    "erasure_evaluator_poly"
   ]
  },
  {
   "cell_type": "code",
   "execution_count": 25,
   "id": "d0035f61-1b3e-47c9-ad03-2484cea18ddb",
   "metadata": {},
   "outputs": [
    {
     "data": {
      "text/plain": [
       "[a^15 + a^13 + a^11 + a^7 + a^5 + a^3 + a^2 + a + 1,\n",
       " a^13 + a^12 + a^8 + a^5 + a^3 + a + 1,\n",
       " a^14 + a^13 + a^12 + a^11 + a^10 + a^9 + a^8 + a^7 + a^3 + a^2 + a + 1,\n",
       " a^14 + a^13 + a^12 + a^11 + a^10 + a^8 + a^4 + a^3 + a,\n",
       " a^14 + a^12 + a^11 + a^10 + a^5 + a^2 + 1,\n",
       " a^13 + a^10 + a^9 + a^6 + a^5 + a^4 + a^2 + a + 1,\n",
       " a^15 + a^14 + a^12 + a^6 + a^5 + a^3,\n",
       " a^14 + a^13 + a^7 + a^4 + a^3 + 1,\n",
       " a^15 + a^14 + a^13 + a^12 + a^9 + a^8 + a^7 + a^5 + a,\n",
       " a^15 + a^13 + a^12 + a^10 + a^9 + a^8 + a^7 + a^6 + a^3 + a^2 + a]"
      ]
     },
     "execution_count": 25,
     "metadata": {},
     "output_type": "execute_result"
    }
   ],
   "source": [
    "def get_repaired_code_vector_f(y, erasure_locator_poly, erasure_evaluator_poly, erased_symbols, erased_positions):\n",
    "    repaired_code_vector = y.copy()\n",
    "    erasure_locator_poly_derivative = derivative(erasure_locator_poly)\n",
    "    for i, erased_pos in zip(erased_symbols, erased_positions):\n",
    "        repaired_code_vector[i] = (a^erased_pos) * erasure_evaluator_poly(a^(-erased_pos)) / erasure_locator_poly_derivative(a^(-erased_pos))\n",
    "    return repaired_code_vector\n",
    "    \n",
    "repaired_code_vector = get_repaired_code_vector_f(y, erasure_locator_poly, erasure_evaluator_poly, erased_symbols, erased_positions)\n",
    "repaired_code_vector[:10]"
   ]
  },
  {
   "cell_type": "markdown",
   "id": "91638050-87f3-49c3-9166-3e75527747b2",
   "metadata": {},
   "source": [
    "### Decoding function"
   ]
  },
  {
   "cell_type": "code",
   "execution_count": 26,
   "id": "73a73355-754e-4735-b000-5ca1b8a607f1",
   "metadata": {},
   "outputs": [],
   "source": [
    "def decode_f(k, r, y, erased_symbols):\n",
    "    inf_positions, par_positions = get_positions_f(k, r)\n",
    "    positions = inf_positions + par_positions\n",
    "    \n",
    "    t = len(erased_symbols)\n",
    "    erased_positions = [positions[i] for i in erased_symbols]\n",
    "    \n",
    "    syndrome_poly = get_syndrome_poly_f(y, positions, t)\n",
    "    erasure_locator_poly = get_erasure_locator_poly_f(erased_positions)\n",
    "    erasure_evaluator_poly = get_erasure_evaluator_poly_f(erasure_locator_poly, syndrome_poly, t)\n",
    "    \n",
    "    repaired_code_vector = get_repaired_code_vector_f(y, erasure_locator_poly, erasure_evaluator_poly, erased_symbols, erased_positions)\n",
    "    \n",
    "    return repaired_code_vector"
   ]
  },
  {
   "cell_type": "markdown",
   "id": "cb5a9100-0540-4c05-bd43-00545b734944",
   "metadata": {},
   "source": [
    "## Tests"
   ]
  },
  {
   "cell_type": "code",
   "execution_count": 27,
   "id": "268d53d2-8d40-4ae2-96c1-93a438b48f82",
   "metadata": {},
   "outputs": [
    {
     "name": "stdout",
     "output_type": "stream",
     "text": [
      "True\n"
     ]
    },
    {
     "data": {
      "text/plain": [
       "0"
      ]
     },
     "execution_count": 27,
     "metadata": {},
     "output_type": "execute_result"
    }
   ],
   "source": [
    "print(code_vector == repaired_code_vector)\n",
    "len(list(i for i in range(k + r) if code_vector[i] != repaired_code_vector[i]))"
   ]
  },
  {
   "cell_type": "code",
   "execution_count": 28,
   "id": "dc0a934e-b781-452b-951a-1088d24c8b5c",
   "metadata": {},
   "outputs": [
    {
     "name": "stdout",
     "output_type": "stream",
     "text": [
      "Running test 10\n",
      "Running test 20\n",
      "Running test 30\n",
      "Running test 40\n",
      "Running test 50\n",
      "Running test 60\n",
      "Running test 70\n",
      "Running test 80\n",
      "Running test 90\n",
      "Running test 100\n",
      "Tests completed\n"
     ]
    }
   ],
   "source": [
    "cases = 100\n",
    "\n",
    "for c in range(1, cases + 1):\n",
    "    if c % 10 == 0:\n",
    "        print(\"Running test\", c)\n",
    "    \n",
    "    k = random.randint(100, 200)\n",
    "    r = random.randint(15, 50)\n",
    "    t = random.randint(10, r)\n",
    "    \n",
    "    payload_data_vector = generate_payload_data_vector_f(k)\n",
    "    code_vector, positions = encode_f(payload_data_vector, r, verbose=False)\n",
    "    \n",
    "    y, erased_symbols, _ = erase_symbols_f(code_vector, positions, t)\n",
    "    while y == code_vector:\n",
    "        print(\"W: y == code_vector, trying again\")\n",
    "        y, erased_symbols, _ = erase_symbols_f(code_vector, positions, t)\n",
    "    assert y != code_vector\n",
    "    \n",
    "    repaired_code_vector = decode_f(k, r, y, erased_symbols)\n",
    "    \n",
    "    assert code_vector == repaired_code_vector\n",
    "print(\"Tests completed\")"
   ]
  },
  {
   "cell_type": "markdown",
   "id": "7b406619-953e-41eb-8765-b15fdaf6820b",
   "metadata": {},
   "source": [
    "# Tests for C code"
   ]
  },
  {
   "cell_type": "code",
   "execution_count": 29,
   "id": "ab6d4cf4-dcf4-4a6e-96ee-2be1ad13f0e0",
   "metadata": {},
   "outputs": [],
   "source": [
    "def symbol_seq_to_struct_init(s, symbol_size, l):\n",
    "    # s is transposed relative to C code repr\n",
    "    return \"{\" + \", \".join(\n",
    "        \"{\" + \", \".join(\n",
    "            str(s[i][j].to_integer()) \n",
    "            for i in range(symbol_size)\n",
    "        ) + \"}\" \n",
    "        for j in range(l)\n",
    "    ) + \"}\"\n",
    "    \n",
    "def symbols_data_to_symbols(data_name, l):\n",
    "    return \"{\" + \", \".join(\n",
    "        f\"{{.data = {data_name}[{i}]}}\"\n",
    "        for i in range(l)\n",
    "    ) + \"}\""
   ]
  },
  {
   "cell_type": "markdown",
   "id": "246c7ec5-6faf-4cc7-a0c2-5358eeb6a210",
   "metadata": {},
   "source": [
    "## Encoding tests"
   ]
  },
  {
   "cell_type": "code",
   "execution_count": 30,
   "id": "650de2ea-d429-4c97-9789-e3f70627a602",
   "metadata": {},
   "outputs": [],
   "source": [
    "def generate_encoding_test_code(symbol_size, k, r):\n",
    "    payload_data_vector = [generate_payload_data_vector_f(k) for _ in range(symbol_size)]\n",
    "    code_vector = [encode_f(payload_data_vector[i], r, verbose=False)[0] for i in range(symbol_size)]\n",
    "    rep_symbols = [code_vector[i][k:] for i in range(symbol_size)]\n",
    "    \n",
    "    inf_symbols_data = symbol_seq_to_struct_init(payload_data_vector, symbol_size, k)\n",
    "    rep_symbols_data = symbol_seq_to_struct_init(rep_symbols, symbol_size, r)\n",
    "    inf_symbols_array = symbols_data_to_symbols(\"inf_symbols_data\", k)\n",
    "    rep_symbols_array = symbols_data_to_symbols(\"rep_symbols_data\", r)\n",
    "        \n",
    "    test_code = f\"\"\"{{\n",
    "    element_t inf_symbols_data[{k}][{symbol_size}] = {inf_symbols_data};\n",
    "    element_t rep_symbols_data[{r}][{symbol_size}] = {rep_symbols_data};\n",
    "    symbol_t inf_symbols_array[{k}] = {inf_symbols_array};\n",
    "    symbol_t rep_symbols_array[{r}] = {rep_symbols_array}; \n",
    "    symbol_seq_t inf_symbols = {{.symbol_size = {symbol_size}, .length = {k}, .symbols = inf_symbols_array}};\n",
    "    symbol_seq_t rep_symbols = {{.symbol_size = {symbol_size}, .length = {r}, .symbols = rep_symbols_array}};\n",
    "\n",
    "    TEST_WRAPPER(rs, inf_symbols, rep_symbols);\n",
    "}}\"\"\"\n",
    "    \n",
    "    print(\"Test code:\\n\" + test_code)"
   ]
  },
  {
   "cell_type": "code",
   "execution_count": 31,
   "id": "aac73cb0-563f-460a-b207-bb2de90679ee",
   "metadata": {},
   "outputs": [
    {
     "name": "stdout",
     "output_type": "stream",
     "text": [
      "Test code:\n",
      "{\n",
      "    element_t inf_symbols_data[22][1] = {{23463}, {18271}, {63830}, {12679}, {25486}, {25593}, {11151}, {6604}, {18508}, {3787}, {15591}, {63471}, {37059}, {46772}, {58133}, {17827}, {30262}, {54112}, {56282}, {42876}, {32057}, {64947}};\n",
      "    element_t rep_symbols_data[17][1] = {{44207}, {22087}, {26603}, {55142}, {49663}, {14523}, {49331}, {53134}, {10148}, {61427}, {11786}, {14279}, {11259}, {7497}, {31657}, {53110}, {24002}};\n",
      "    symbol_t inf_symbols_array[22] = {{.data = inf_symbols_data[0]}, {.data = inf_symbols_data[1]}, {.data = inf_symbols_data[2]}, {.data = inf_symbols_data[3]}, {.data = inf_symbols_data[4]}, {.data = inf_symbols_data[5]}, {.data = inf_symbols_data[6]}, {.data = inf_symbols_data[7]}, {.data = inf_symbols_data[8]}, {.data = inf_symbols_data[9]}, {.data = inf_symbols_data[10]}, {.data = inf_symbols_data[11]}, {.data = inf_symbols_data[12]}, {.data = inf_symbols_data[13]}, {.data = inf_symbols_data[14]}, {.data = inf_symbols_data[15]}, {.data = inf_symbols_data[16]}, {.data = inf_symbols_data[17]}, {.data = inf_symbols_data[18]}, {.data = inf_symbols_data[19]}, {.data = inf_symbols_data[20]}, {.data = inf_symbols_data[21]}};\n",
      "    symbol_t rep_symbols_array[17] = {{.data = rep_symbols_data[0]}, {.data = rep_symbols_data[1]}, {.data = rep_symbols_data[2]}, {.data = rep_symbols_data[3]}, {.data = rep_symbols_data[4]}, {.data = rep_symbols_data[5]}, {.data = rep_symbols_data[6]}, {.data = rep_symbols_data[7]}, {.data = rep_symbols_data[8]}, {.data = rep_symbols_data[9]}, {.data = rep_symbols_data[10]}, {.data = rep_symbols_data[11]}, {.data = rep_symbols_data[12]}, {.data = rep_symbols_data[13]}, {.data = rep_symbols_data[14]}, {.data = rep_symbols_data[15]}, {.data = rep_symbols_data[16]}}; \n",
      "    symbol_seq_t inf_symbols = {.symbol_size = 1, .length = 22, .symbols = inf_symbols_array};\n",
      "    symbol_seq_t rep_symbols = {.symbol_size = 1, .length = 17, .symbols = rep_symbols_array};\n",
      "\n",
      "    TEST_WRAPPER(rs, inf_symbols, rep_symbols);\n",
      "}\n"
     ]
    }
   ],
   "source": [
    "# Test 1\n",
    "\n",
    "symbol_size = 1\n",
    "k = 22\n",
    "r = 17\n",
    "\n",
    "generate_encoding_test_code(symbol_size, k, r)"
   ]
  },
  {
   "cell_type": "code",
   "execution_count": 32,
   "id": "4e8cc1c7-77ee-46a3-a642-93f968eb65e1",
   "metadata": {},
   "outputs": [
    {
     "name": "stdout",
     "output_type": "stream",
     "text": [
      "Test code:\n",
      "{\n",
      "    element_t inf_symbols_data[13][2] = {{52386, 18372}, {17054, 63597}, {12776, 63070}, {27583, 22037}, {764, 14105}, {27334, 11260}, {55821, 19383}, {4226, 48718}, {31993, 60926}, {5035, 12882}, {57381, 1912}, {28615, 23561}, {38931, 23609}};\n",
      "    element_t rep_symbols_data[8][2] = {{43618, 45895}, {50876, 41375}, {59615, 31709}, {5306, 5088}, {51195, 25755}, {21369, 14410}, {48312, 20644}, {46844, 22666}};\n",
      "    symbol_t inf_symbols_array[13] = {{.data = inf_symbols_data[0]}, {.data = inf_symbols_data[1]}, {.data = inf_symbols_data[2]}, {.data = inf_symbols_data[3]}, {.data = inf_symbols_data[4]}, {.data = inf_symbols_data[5]}, {.data = inf_symbols_data[6]}, {.data = inf_symbols_data[7]}, {.data = inf_symbols_data[8]}, {.data = inf_symbols_data[9]}, {.data = inf_symbols_data[10]}, {.data = inf_symbols_data[11]}, {.data = inf_symbols_data[12]}};\n",
      "    symbol_t rep_symbols_array[8] = {{.data = rep_symbols_data[0]}, {.data = rep_symbols_data[1]}, {.data = rep_symbols_data[2]}, {.data = rep_symbols_data[3]}, {.data = rep_symbols_data[4]}, {.data = rep_symbols_data[5]}, {.data = rep_symbols_data[6]}, {.data = rep_symbols_data[7]}}; \n",
      "    symbol_seq_t inf_symbols = {.symbol_size = 2, .length = 13, .symbols = inf_symbols_array};\n",
      "    symbol_seq_t rep_symbols = {.symbol_size = 2, .length = 8, .symbols = rep_symbols_array};\n",
      "\n",
      "    TEST_WRAPPER(rs, inf_symbols, rep_symbols);\n",
      "}\n"
     ]
    }
   ],
   "source": [
    "# Test 2\n",
    "\n",
    "symbol_size = 2\n",
    "k = 13\n",
    "r = 8\n",
    "\n",
    "generate_encoding_test_code(symbol_size, k, r)"
   ]
  },
  {
   "cell_type": "code",
   "execution_count": 33,
   "id": "567335f3-8802-42c7-b525-f82a2f33b8d6",
   "metadata": {},
   "outputs": [
    {
     "name": "stdout",
     "output_type": "stream",
     "text": [
      "Test code:\n",
      "{\n",
      "    element_t inf_symbols_data[7][3] = {{48683, 58717, 46625}, {24552, 22868, 2893}, {63033, 9253, 29098}, {26837, 13419, 33900}, {40432, 49644, 23866}, {32948, 40685, 50908}, {26532, 29916, 49073}};\n",
      "    element_t rep_symbols_data[4][3] = {{22971, 42066, 18978}, {38194, 49653, 33954}, {8928, 19722, 46433}, {60326, 44855, 5916}};\n",
      "    symbol_t inf_symbols_array[7] = {{.data = inf_symbols_data[0]}, {.data = inf_symbols_data[1]}, {.data = inf_symbols_data[2]}, {.data = inf_symbols_data[3]}, {.data = inf_symbols_data[4]}, {.data = inf_symbols_data[5]}, {.data = inf_symbols_data[6]}};\n",
      "    symbol_t rep_symbols_array[4] = {{.data = rep_symbols_data[0]}, {.data = rep_symbols_data[1]}, {.data = rep_symbols_data[2]}, {.data = rep_symbols_data[3]}}; \n",
      "    symbol_seq_t inf_symbols = {.symbol_size = 3, .length = 7, .symbols = inf_symbols_array};\n",
      "    symbol_seq_t rep_symbols = {.symbol_size = 3, .length = 4, .symbols = rep_symbols_array};\n",
      "\n",
      "    TEST_WRAPPER(rs, inf_symbols, rep_symbols);\n",
      "}\n"
     ]
    }
   ],
   "source": [
    "# Test 3\n",
    "\n",
    "symbol_size = 3\n",
    "k = 7\n",
    "r = 4\n",
    "\n",
    "generate_encoding_test_code(symbol_size, k, r)"
   ]
  },
  {
   "cell_type": "markdown",
   "id": "a229ce66-5a71-4083-97a6-2cc066ca7030",
   "metadata": {},
   "source": [
    "## Erasure correction tests"
   ]
  },
  {
   "cell_type": "code",
   "execution_count": 50,
   "id": "485a0002-94f4-4583-8d84-411158a73984",
   "metadata": {},
   "outputs": [],
   "source": [
    "def generate_erasure_correction_test_code(symbol_size, k, r, t):\n",
    "    payload_data_vector = [generate_payload_data_vector_f(k) for _ in range(symbol_size)]\n",
    "    code_vector = [encode_f(payload_data_vector[i], r, verbose=False)[0] for i in range(symbol_size)]\n",
    "    erased_indices = random.sample(range(k + r), t)\n",
    "    \n",
    "    rcv_symbols = [code_vector[i].copy() for i in range(symbol_size)]\n",
    "    # for erased_idx in erased_indices:\n",
    "    #     for i in range(symbol_size):\n",
    "    #         rcv_symbols[i][erased_idx] *= 0\n",
    "            \n",
    "    rcv_symbols_data = symbol_seq_to_struct_init(rcv_symbols, symbol_size, k + r)\n",
    "    rcv_symbols_array = symbols_data_to_symbols(\"rcv_symbols_data\", k + r)\n",
    "    erased_indices_str = \"{\" + \", \".join(map(str, erased_indices)) + \"}\"\n",
    "        \n",
    "    test_code = f\"\"\"{{\n",
    "    uint16_t k = {k};\n",
    "    uint16_t r = {r};\n",
    "    uint16_t t = {t};\n",
    "    element_t rcv_symbols_data[{k + r}][{symbol_size}] = {rcv_symbols_data};\n",
    "    symbol_t rcv_symbols_array[{k + r}] = {rcv_symbols_array}; \n",
    "    symbol_seq_t rcv_symbols = {{.symbol_size = {symbol_size}, .length = {k + r}, .symbols = rcv_symbols_array}};\n",
    "    uint16_t erased_indices[{t}] = {erased_indices_str};\n",
    "\n",
    "    TEST_WRAPPER(rs, k, r, rcv_symbols, erased_indices, t);\n",
    "}}\"\"\"\n",
    "    \n",
    "    print(\"Test code:\\n\" + test_code)"
   ]
  },
  {
   "cell_type": "code",
   "execution_count": 51,
   "id": "edae04ba-8417-4f30-a686-5deea7cd553a",
   "metadata": {},
   "outputs": [
    {
     "name": "stdout",
     "output_type": "stream",
     "text": [
      "Test code:\n",
      "{\n",
      "    uint16_t k = 24;\n",
      "    uint16_t r = 15;\n",
      "    uint16_t t = 12;\n",
      "    element_t rcv_symbols_data[39][1] = {{45100}, {44816}, {14317}, {14605}, {39619}, {14144}, {33136}, {47610}, {11155}, {6240}, {9065}, {27926}, {31952}, {44615}, {44897}, {58344}, {3297}, {21777}, {36711}, {5053}, {44272}, {24319}, {21107}, {17830}, {48152}, {46421}, {16974}, {26755}, {40689}, {2995}, {20301}, {34240}, {58232}, {12357}, {18371}, {41310}, {11768}, {54399}, {63455}};\n",
      "    symbol_t rcv_symbols_array[39] = {{.data = rcv_symbols_data[0]}, {.data = rcv_symbols_data[1]}, {.data = rcv_symbols_data[2]}, {.data = rcv_symbols_data[3]}, {.data = rcv_symbols_data[4]}, {.data = rcv_symbols_data[5]}, {.data = rcv_symbols_data[6]}, {.data = rcv_symbols_data[7]}, {.data = rcv_symbols_data[8]}, {.data = rcv_symbols_data[9]}, {.data = rcv_symbols_data[10]}, {.data = rcv_symbols_data[11]}, {.data = rcv_symbols_data[12]}, {.data = rcv_symbols_data[13]}, {.data = rcv_symbols_data[14]}, {.data = rcv_symbols_data[15]}, {.data = rcv_symbols_data[16]}, {.data = rcv_symbols_data[17]}, {.data = rcv_symbols_data[18]}, {.data = rcv_symbols_data[19]}, {.data = rcv_symbols_data[20]}, {.data = rcv_symbols_data[21]}, {.data = rcv_symbols_data[22]}, {.data = rcv_symbols_data[23]}, {.data = rcv_symbols_data[24]}, {.data = rcv_symbols_data[25]}, {.data = rcv_symbols_data[26]}, {.data = rcv_symbols_data[27]}, {.data = rcv_symbols_data[28]}, {.data = rcv_symbols_data[29]}, {.data = rcv_symbols_data[30]}, {.data = rcv_symbols_data[31]}, {.data = rcv_symbols_data[32]}, {.data = rcv_symbols_data[33]}, {.data = rcv_symbols_data[34]}, {.data = rcv_symbols_data[35]}, {.data = rcv_symbols_data[36]}, {.data = rcv_symbols_data[37]}, {.data = rcv_symbols_data[38]}}; \n",
      "    symbol_seq_t rcv_symbols = {.symbol_size = 1, .length = 39, .symbols = rcv_symbols_array};\n",
      "    uint16_t erased_indices[12] = {7, 38, 16, 33, 15, 25, 27, 2, 5, 30, 11, 24};\n",
      "\n",
      "    TEST_WRAPPER(rs, k, r, rcv_symbols, erased_indices, t);\n",
      "}\n"
     ]
    }
   ],
   "source": [
    "# Test 1\n",
    "\n",
    "symbol_size = 1\n",
    "k = 24\n",
    "r = 15\n",
    "t = 12\n",
    "\n",
    "generate_erasure_correction_test_code(symbol_size, k, r, t)"
   ]
  },
  {
   "cell_type": "code",
   "execution_count": 52,
   "id": "ce71ddd8-0d72-4e1a-807d-3cb027cb1678",
   "metadata": {},
   "outputs": [
    {
     "name": "stdout",
     "output_type": "stream",
     "text": [
      "Test code:\n",
      "{\n",
      "    uint16_t k = 11;\n",
      "    uint16_t r = 9;\n",
      "    uint16_t t = 9;\n",
      "    element_t rcv_symbols_data[20][2] = {{21077, 59249}, {51477, 43149}, {50557, 27336}, {40204, 52243}, {53043, 2522}, {62456, 19727}, {32103, 6835}, {32456, 22811}, {23396, 5399}, {3297, 10260}, {49033, 62857}, {17411, 21680}, {58842, 52508}, {34182, 23221}, {40140, 17215}, {50916, 50726}, {21565, 5511}, {48243, 12175}, {49927, 15781}, {16743, 26493}};\n",
      "    symbol_t rcv_symbols_array[20] = {{.data = rcv_symbols_data[0]}, {.data = rcv_symbols_data[1]}, {.data = rcv_symbols_data[2]}, {.data = rcv_symbols_data[3]}, {.data = rcv_symbols_data[4]}, {.data = rcv_symbols_data[5]}, {.data = rcv_symbols_data[6]}, {.data = rcv_symbols_data[7]}, {.data = rcv_symbols_data[8]}, {.data = rcv_symbols_data[9]}, {.data = rcv_symbols_data[10]}, {.data = rcv_symbols_data[11]}, {.data = rcv_symbols_data[12]}, {.data = rcv_symbols_data[13]}, {.data = rcv_symbols_data[14]}, {.data = rcv_symbols_data[15]}, {.data = rcv_symbols_data[16]}, {.data = rcv_symbols_data[17]}, {.data = rcv_symbols_data[18]}, {.data = rcv_symbols_data[19]}}; \n",
      "    symbol_seq_t rcv_symbols = {.symbol_size = 2, .length = 20, .symbols = rcv_symbols_array};\n",
      "    uint16_t erased_indices[9] = {13, 11, 17, 5, 6, 3, 0, 18, 16};\n",
      "\n",
      "    TEST_WRAPPER(rs, k, r, rcv_symbols, erased_indices, t);\n",
      "}\n"
     ]
    }
   ],
   "source": [
    "# Test 2\n",
    "\n",
    "symbol_size = 2\n",
    "k = 11\n",
    "r = 9\n",
    "t = 9\n",
    "\n",
    "generate_erasure_correction_test_code(symbol_size, k, r, t)"
   ]
  },
  {
   "cell_type": "code",
   "execution_count": 53,
   "id": "2b53d0f3-c7b1-45c1-831c-77acf6b921b3",
   "metadata": {},
   "outputs": [
    {
     "name": "stdout",
     "output_type": "stream",
     "text": [
      "Test code:\n",
      "{\n",
      "    uint16_t k = 9;\n",
      "    uint16_t r = 6;\n",
      "    uint16_t t = 6;\n",
      "    element_t rcv_symbols_data[15][3] = {{30234, 54688, 40968}, {62001, 57116, 53248}, {59608, 40439, 47910}, {40449, 44643, 1356}, {41281, 61935, 24043}, {20928, 64334, 28787}, {551, 33036, 16640}, {54685, 57197, 62733}, {27135, 7861, 42303}, {26749, 9013, 13320}, {15209, 7220, 20689}, {62126, 34159, 34348}, {22415, 10559, 35455}, {23533, 63689, 15527}, {4590, 6341, 42725}};\n",
      "    symbol_t rcv_symbols_array[15] = {{.data = rcv_symbols_data[0]}, {.data = rcv_symbols_data[1]}, {.data = rcv_symbols_data[2]}, {.data = rcv_symbols_data[3]}, {.data = rcv_symbols_data[4]}, {.data = rcv_symbols_data[5]}, {.data = rcv_symbols_data[6]}, {.data = rcv_symbols_data[7]}, {.data = rcv_symbols_data[8]}, {.data = rcv_symbols_data[9]}, {.data = rcv_symbols_data[10]}, {.data = rcv_symbols_data[11]}, {.data = rcv_symbols_data[12]}, {.data = rcv_symbols_data[13]}, {.data = rcv_symbols_data[14]}}; \n",
      "    symbol_seq_t rcv_symbols = {.symbol_size = 3, .length = 15, .symbols = rcv_symbols_array};\n",
      "    uint16_t erased_indices[6] = {8, 11, 13, 2, 0, 1};\n",
      "\n",
      "    TEST_WRAPPER(rs, k, r, rcv_symbols, erased_indices, t);\n",
      "}\n"
     ]
    }
   ],
   "source": [
    "# Test 3\n",
    "\n",
    "symbol_size = 3\n",
    "k = 9\n",
    "r = 6\n",
    "t = 6\n",
    "\n",
    "generate_erasure_correction_test_code(symbol_size, k, r, t)"
   ]
  }
 ],
 "metadata": {
  "kernelspec": {
   "display_name": "SageMath 10.2",
   "language": "sage",
   "name": "sagemath"
  },
  "language_info": {
   "codemirror_mode": {
    "name": "ipython",
    "version": 3
   },
   "file_extension": ".py",
   "mimetype": "text/x-python",
   "name": "python",
   "nbconvert_exporter": "python",
   "pygments_lexer": "ipython3",
   "version": "3.11.2"
  }
 },
 "nbformat": 4,
 "nbformat_minor": 5
}
